{
 "cells": [
  {
   "cell_type": "markdown",
   "id": "4e82a99d",
   "metadata": {},
   "source": [
    "# Customer Churn Analysis"
   ]
  },
  {
   "cell_type": "code",
   "execution_count": 1,
   "id": "9351b442",
   "metadata": {},
   "outputs": [],
   "source": [
    "# Importing the libraries\n",
    "import numpy as np\n",
    "import matplotlib.pyplot as plt\n",
    "import pandas as pd\n",
    "import tensorflow as tf\n",
    "import seaborn as sns\n",
    "\n",
    "import warnings\n",
    "warnings.filterwarnings('ignore')"
   ]
  },
  {
   "cell_type": "code",
   "execution_count": 2,
   "id": "1d9d9355",
   "metadata": {},
   "outputs": [],
   "source": [
    "# Importing the dataset\n",
    "dataset = pd.read_csv('churn_modelling.csv')\n",
    "a = dataset.iloc[:, 3:13]\n",
    "b = dataset.iloc[:, 13]"
   ]
  },
  {
   "cell_type": "code",
   "execution_count": 3,
   "id": "632910cb",
   "metadata": {},
   "outputs": [
    {
     "data": {
      "text/html": [
       "<div>\n",
       "<style scoped>\n",
       "    .dataframe tbody tr th:only-of-type {\n",
       "        vertical-align: middle;\n",
       "    }\n",
       "\n",
       "    .dataframe tbody tr th {\n",
       "        vertical-align: top;\n",
       "    }\n",
       "\n",
       "    .dataframe thead th {\n",
       "        text-align: right;\n",
       "    }\n",
       "</style>\n",
       "<table border=\"1\" class=\"dataframe\">\n",
       "  <thead>\n",
       "    <tr style=\"text-align: right;\">\n",
       "      <th></th>\n",
       "      <th>RowNumber</th>\n",
       "      <th>CustomerId</th>\n",
       "      <th>Surname</th>\n",
       "      <th>CreditScore</th>\n",
       "      <th>Geography</th>\n",
       "      <th>Gender</th>\n",
       "      <th>Age</th>\n",
       "      <th>Tenure</th>\n",
       "      <th>Balance</th>\n",
       "      <th>NumOfProducts</th>\n",
       "      <th>HasCrCard</th>\n",
       "      <th>IsActiveMember</th>\n",
       "      <th>EstimatedSalary</th>\n",
       "      <th>Exited</th>\n",
       "    </tr>\n",
       "  </thead>\n",
       "  <tbody>\n",
       "    <tr>\n",
       "      <th>0</th>\n",
       "      <td>1</td>\n",
       "      <td>15634602</td>\n",
       "      <td>Hargrave</td>\n",
       "      <td>619</td>\n",
       "      <td>France</td>\n",
       "      <td>Female</td>\n",
       "      <td>42</td>\n",
       "      <td>2</td>\n",
       "      <td>0.00</td>\n",
       "      <td>1</td>\n",
       "      <td>1</td>\n",
       "      <td>1</td>\n",
       "      <td>101348.88</td>\n",
       "      <td>1</td>\n",
       "    </tr>\n",
       "    <tr>\n",
       "      <th>1</th>\n",
       "      <td>2</td>\n",
       "      <td>15647311</td>\n",
       "      <td>Hill</td>\n",
       "      <td>608</td>\n",
       "      <td>Spain</td>\n",
       "      <td>Female</td>\n",
       "      <td>41</td>\n",
       "      <td>1</td>\n",
       "      <td>83807.86</td>\n",
       "      <td>1</td>\n",
       "      <td>0</td>\n",
       "      <td>1</td>\n",
       "      <td>112542.58</td>\n",
       "      <td>0</td>\n",
       "    </tr>\n",
       "    <tr>\n",
       "      <th>2</th>\n",
       "      <td>3</td>\n",
       "      <td>15619304</td>\n",
       "      <td>Onio</td>\n",
       "      <td>502</td>\n",
       "      <td>France</td>\n",
       "      <td>Female</td>\n",
       "      <td>42</td>\n",
       "      <td>8</td>\n",
       "      <td>159660.80</td>\n",
       "      <td>3</td>\n",
       "      <td>1</td>\n",
       "      <td>0</td>\n",
       "      <td>113931.57</td>\n",
       "      <td>1</td>\n",
       "    </tr>\n",
       "    <tr>\n",
       "      <th>3</th>\n",
       "      <td>4</td>\n",
       "      <td>15701354</td>\n",
       "      <td>Boni</td>\n",
       "      <td>699</td>\n",
       "      <td>France</td>\n",
       "      <td>Female</td>\n",
       "      <td>39</td>\n",
       "      <td>1</td>\n",
       "      <td>0.00</td>\n",
       "      <td>2</td>\n",
       "      <td>0</td>\n",
       "      <td>0</td>\n",
       "      <td>93826.63</td>\n",
       "      <td>0</td>\n",
       "    </tr>\n",
       "    <tr>\n",
       "      <th>4</th>\n",
       "      <td>5</td>\n",
       "      <td>15737888</td>\n",
       "      <td>Mitchell</td>\n",
       "      <td>850</td>\n",
       "      <td>Spain</td>\n",
       "      <td>Female</td>\n",
       "      <td>43</td>\n",
       "      <td>2</td>\n",
       "      <td>125510.82</td>\n",
       "      <td>1</td>\n",
       "      <td>1</td>\n",
       "      <td>1</td>\n",
       "      <td>79084.10</td>\n",
       "      <td>0</td>\n",
       "    </tr>\n",
       "  </tbody>\n",
       "</table>\n",
       "</div>"
      ],
      "text/plain": [
       "   RowNumber  CustomerId   Surname  CreditScore Geography  Gender  Age  \\\n",
       "0          1    15634602  Hargrave          619    France  Female   42   \n",
       "1          2    15647311      Hill          608     Spain  Female   41   \n",
       "2          3    15619304      Onio          502    France  Female   42   \n",
       "3          4    15701354      Boni          699    France  Female   39   \n",
       "4          5    15737888  Mitchell          850     Spain  Female   43   \n",
       "\n",
       "   Tenure    Balance  NumOfProducts  HasCrCard  IsActiveMember  \\\n",
       "0       2       0.00              1          1               1   \n",
       "1       1   83807.86              1          0               1   \n",
       "2       8  159660.80              3          1               0   \n",
       "3       1       0.00              2          0               0   \n",
       "4       2  125510.82              1          1               1   \n",
       "\n",
       "   EstimatedSalary  Exited  \n",
       "0        101348.88       1  \n",
       "1        112542.58       0  \n",
       "2        113931.57       1  \n",
       "3         93826.63       0  \n",
       "4         79084.10       0  "
      ]
     },
     "execution_count": 3,
     "metadata": {},
     "output_type": "execute_result"
    }
   ],
   "source": [
    "dataset.head()"
   ]
  },
  {
   "cell_type": "code",
   "execution_count": 4,
   "id": "ec21590a",
   "metadata": {},
   "outputs": [
    {
     "data": {
      "text/html": [
       "<div>\n",
       "<style scoped>\n",
       "    .dataframe tbody tr th:only-of-type {\n",
       "        vertical-align: middle;\n",
       "    }\n",
       "\n",
       "    .dataframe tbody tr th {\n",
       "        vertical-align: top;\n",
       "    }\n",
       "\n",
       "    .dataframe thead th {\n",
       "        text-align: right;\n",
       "    }\n",
       "</style>\n",
       "<table border=\"1\" class=\"dataframe\">\n",
       "  <thead>\n",
       "    <tr style=\"text-align: right;\">\n",
       "      <th></th>\n",
       "      <th>RowNumber</th>\n",
       "      <th>CustomerId</th>\n",
       "      <th>Surname</th>\n",
       "      <th>CreditScore</th>\n",
       "      <th>Geography</th>\n",
       "      <th>Gender</th>\n",
       "      <th>Age</th>\n",
       "      <th>Tenure</th>\n",
       "      <th>Balance</th>\n",
       "      <th>NumOfProducts</th>\n",
       "      <th>HasCrCard</th>\n",
       "      <th>IsActiveMember</th>\n",
       "      <th>EstimatedSalary</th>\n",
       "      <th>Exited</th>\n",
       "    </tr>\n",
       "  </thead>\n",
       "  <tbody>\n",
       "    <tr>\n",
       "      <th>9995</th>\n",
       "      <td>9996</td>\n",
       "      <td>15606229</td>\n",
       "      <td>Obijiaku</td>\n",
       "      <td>771</td>\n",
       "      <td>France</td>\n",
       "      <td>Male</td>\n",
       "      <td>39</td>\n",
       "      <td>5</td>\n",
       "      <td>0.00</td>\n",
       "      <td>2</td>\n",
       "      <td>1</td>\n",
       "      <td>0</td>\n",
       "      <td>96270.64</td>\n",
       "      <td>0</td>\n",
       "    </tr>\n",
       "    <tr>\n",
       "      <th>9996</th>\n",
       "      <td>9997</td>\n",
       "      <td>15569892</td>\n",
       "      <td>Johnstone</td>\n",
       "      <td>516</td>\n",
       "      <td>France</td>\n",
       "      <td>Male</td>\n",
       "      <td>35</td>\n",
       "      <td>10</td>\n",
       "      <td>57369.61</td>\n",
       "      <td>1</td>\n",
       "      <td>1</td>\n",
       "      <td>1</td>\n",
       "      <td>101699.77</td>\n",
       "      <td>0</td>\n",
       "    </tr>\n",
       "    <tr>\n",
       "      <th>9997</th>\n",
       "      <td>9998</td>\n",
       "      <td>15584532</td>\n",
       "      <td>Liu</td>\n",
       "      <td>709</td>\n",
       "      <td>France</td>\n",
       "      <td>Female</td>\n",
       "      <td>36</td>\n",
       "      <td>7</td>\n",
       "      <td>0.00</td>\n",
       "      <td>1</td>\n",
       "      <td>0</td>\n",
       "      <td>1</td>\n",
       "      <td>42085.58</td>\n",
       "      <td>1</td>\n",
       "    </tr>\n",
       "    <tr>\n",
       "      <th>9998</th>\n",
       "      <td>9999</td>\n",
       "      <td>15682355</td>\n",
       "      <td>Sabbatini</td>\n",
       "      <td>772</td>\n",
       "      <td>Germany</td>\n",
       "      <td>Male</td>\n",
       "      <td>42</td>\n",
       "      <td>3</td>\n",
       "      <td>75075.31</td>\n",
       "      <td>2</td>\n",
       "      <td>1</td>\n",
       "      <td>0</td>\n",
       "      <td>92888.52</td>\n",
       "      <td>1</td>\n",
       "    </tr>\n",
       "    <tr>\n",
       "      <th>9999</th>\n",
       "      <td>10000</td>\n",
       "      <td>15628319</td>\n",
       "      <td>Walker</td>\n",
       "      <td>792</td>\n",
       "      <td>France</td>\n",
       "      <td>Female</td>\n",
       "      <td>28</td>\n",
       "      <td>4</td>\n",
       "      <td>130142.79</td>\n",
       "      <td>1</td>\n",
       "      <td>1</td>\n",
       "      <td>0</td>\n",
       "      <td>38190.78</td>\n",
       "      <td>0</td>\n",
       "    </tr>\n",
       "  </tbody>\n",
       "</table>\n",
       "</div>"
      ],
      "text/plain": [
       "      RowNumber  CustomerId    Surname  CreditScore Geography  Gender  Age  \\\n",
       "9995       9996    15606229   Obijiaku          771    France    Male   39   \n",
       "9996       9997    15569892  Johnstone          516    France    Male   35   \n",
       "9997       9998    15584532        Liu          709    France  Female   36   \n",
       "9998       9999    15682355  Sabbatini          772   Germany    Male   42   \n",
       "9999      10000    15628319     Walker          792    France  Female   28   \n",
       "\n",
       "      Tenure    Balance  NumOfProducts  HasCrCard  IsActiveMember  \\\n",
       "9995       5       0.00              2          1               0   \n",
       "9996      10   57369.61              1          1               1   \n",
       "9997       7       0.00              1          0               1   \n",
       "9998       3   75075.31              2          1               0   \n",
       "9999       4  130142.79              1          1               0   \n",
       "\n",
       "      EstimatedSalary  Exited  \n",
       "9995         96270.64       0  \n",
       "9996        101699.77       0  \n",
       "9997         42085.58       1  \n",
       "9998         92888.52       1  \n",
       "9999         38190.78       0  "
      ]
     },
     "execution_count": 4,
     "metadata": {},
     "output_type": "execute_result"
    }
   ],
   "source": [
    "dataset.tail()"
   ]
  },
  {
   "cell_type": "code",
   "execution_count": 5,
   "id": "5751ebf9",
   "metadata": {},
   "outputs": [
    {
     "name": "stdout",
     "output_type": "stream",
     "text": [
      "<class 'pandas.core.frame.DataFrame'>\n",
      "RangeIndex: 10000 entries, 0 to 9999\n",
      "Data columns (total 14 columns):\n",
      " #   Column           Non-Null Count  Dtype  \n",
      "---  ------           --------------  -----  \n",
      " 0   RowNumber        10000 non-null  int64  \n",
      " 1   CustomerId       10000 non-null  int64  \n",
      " 2   Surname          10000 non-null  object \n",
      " 3   CreditScore      10000 non-null  int64  \n",
      " 4   Geography        10000 non-null  object \n",
      " 5   Gender           10000 non-null  object \n",
      " 6   Age              10000 non-null  int64  \n",
      " 7   Tenure           10000 non-null  int64  \n",
      " 8   Balance          10000 non-null  float64\n",
      " 9   NumOfProducts    10000 non-null  int64  \n",
      " 10  HasCrCard        10000 non-null  int64  \n",
      " 11  IsActiveMember   10000 non-null  int64  \n",
      " 12  EstimatedSalary  10000 non-null  float64\n",
      " 13  Exited           10000 non-null  int64  \n",
      "dtypes: float64(2), int64(9), object(3)\n",
      "memory usage: 1.1+ MB\n"
     ]
    }
   ],
   "source": [
    "dataset.info()"
   ]
  },
  {
   "cell_type": "code",
   "execution_count": 6,
   "id": "2353693b",
   "metadata": {},
   "outputs": [
    {
     "data": {
      "text/html": [
       "<div>\n",
       "<style scoped>\n",
       "    .dataframe tbody tr th:only-of-type {\n",
       "        vertical-align: middle;\n",
       "    }\n",
       "\n",
       "    .dataframe tbody tr th {\n",
       "        vertical-align: top;\n",
       "    }\n",
       "\n",
       "    .dataframe thead th {\n",
       "        text-align: right;\n",
       "    }\n",
       "</style>\n",
       "<table border=\"1\" class=\"dataframe\">\n",
       "  <thead>\n",
       "    <tr style=\"text-align: right;\">\n",
       "      <th></th>\n",
       "      <th>RowNumber</th>\n",
       "      <th>CustomerId</th>\n",
       "      <th>CreditScore</th>\n",
       "      <th>Age</th>\n",
       "      <th>Tenure</th>\n",
       "      <th>Balance</th>\n",
       "      <th>NumOfProducts</th>\n",
       "      <th>HasCrCard</th>\n",
       "      <th>IsActiveMember</th>\n",
       "      <th>EstimatedSalary</th>\n",
       "      <th>Exited</th>\n",
       "    </tr>\n",
       "  </thead>\n",
       "  <tbody>\n",
       "    <tr>\n",
       "      <th>count</th>\n",
       "      <td>10000.00000</td>\n",
       "      <td>1.000000e+04</td>\n",
       "      <td>10000.000000</td>\n",
       "      <td>10000.000000</td>\n",
       "      <td>10000.000000</td>\n",
       "      <td>10000.000000</td>\n",
       "      <td>10000.000000</td>\n",
       "      <td>10000.00000</td>\n",
       "      <td>10000.000000</td>\n",
       "      <td>10000.000000</td>\n",
       "      <td>10000.000000</td>\n",
       "    </tr>\n",
       "    <tr>\n",
       "      <th>mean</th>\n",
       "      <td>5000.50000</td>\n",
       "      <td>1.569094e+07</td>\n",
       "      <td>650.528800</td>\n",
       "      <td>38.921800</td>\n",
       "      <td>5.012800</td>\n",
       "      <td>76485.889288</td>\n",
       "      <td>1.530200</td>\n",
       "      <td>0.70550</td>\n",
       "      <td>0.515100</td>\n",
       "      <td>100090.239881</td>\n",
       "      <td>0.203700</td>\n",
       "    </tr>\n",
       "    <tr>\n",
       "      <th>std</th>\n",
       "      <td>2886.89568</td>\n",
       "      <td>7.193619e+04</td>\n",
       "      <td>96.653299</td>\n",
       "      <td>10.487806</td>\n",
       "      <td>2.892174</td>\n",
       "      <td>62397.405202</td>\n",
       "      <td>0.581654</td>\n",
       "      <td>0.45584</td>\n",
       "      <td>0.499797</td>\n",
       "      <td>57510.492818</td>\n",
       "      <td>0.402769</td>\n",
       "    </tr>\n",
       "    <tr>\n",
       "      <th>min</th>\n",
       "      <td>1.00000</td>\n",
       "      <td>1.556570e+07</td>\n",
       "      <td>350.000000</td>\n",
       "      <td>18.000000</td>\n",
       "      <td>0.000000</td>\n",
       "      <td>0.000000</td>\n",
       "      <td>1.000000</td>\n",
       "      <td>0.00000</td>\n",
       "      <td>0.000000</td>\n",
       "      <td>11.580000</td>\n",
       "      <td>0.000000</td>\n",
       "    </tr>\n",
       "    <tr>\n",
       "      <th>25%</th>\n",
       "      <td>2500.75000</td>\n",
       "      <td>1.562853e+07</td>\n",
       "      <td>584.000000</td>\n",
       "      <td>32.000000</td>\n",
       "      <td>3.000000</td>\n",
       "      <td>0.000000</td>\n",
       "      <td>1.000000</td>\n",
       "      <td>0.00000</td>\n",
       "      <td>0.000000</td>\n",
       "      <td>51002.110000</td>\n",
       "      <td>0.000000</td>\n",
       "    </tr>\n",
       "    <tr>\n",
       "      <th>50%</th>\n",
       "      <td>5000.50000</td>\n",
       "      <td>1.569074e+07</td>\n",
       "      <td>652.000000</td>\n",
       "      <td>37.000000</td>\n",
       "      <td>5.000000</td>\n",
       "      <td>97198.540000</td>\n",
       "      <td>1.000000</td>\n",
       "      <td>1.00000</td>\n",
       "      <td>1.000000</td>\n",
       "      <td>100193.915000</td>\n",
       "      <td>0.000000</td>\n",
       "    </tr>\n",
       "    <tr>\n",
       "      <th>75%</th>\n",
       "      <td>7500.25000</td>\n",
       "      <td>1.575323e+07</td>\n",
       "      <td>718.000000</td>\n",
       "      <td>44.000000</td>\n",
       "      <td>7.000000</td>\n",
       "      <td>127644.240000</td>\n",
       "      <td>2.000000</td>\n",
       "      <td>1.00000</td>\n",
       "      <td>1.000000</td>\n",
       "      <td>149388.247500</td>\n",
       "      <td>0.000000</td>\n",
       "    </tr>\n",
       "    <tr>\n",
       "      <th>max</th>\n",
       "      <td>10000.00000</td>\n",
       "      <td>1.581569e+07</td>\n",
       "      <td>850.000000</td>\n",
       "      <td>92.000000</td>\n",
       "      <td>10.000000</td>\n",
       "      <td>250898.090000</td>\n",
       "      <td>4.000000</td>\n",
       "      <td>1.00000</td>\n",
       "      <td>1.000000</td>\n",
       "      <td>199992.480000</td>\n",
       "      <td>1.000000</td>\n",
       "    </tr>\n",
       "  </tbody>\n",
       "</table>\n",
       "</div>"
      ],
      "text/plain": [
       "         RowNumber    CustomerId   CreditScore           Age        Tenure  \\\n",
       "count  10000.00000  1.000000e+04  10000.000000  10000.000000  10000.000000   \n",
       "mean    5000.50000  1.569094e+07    650.528800     38.921800      5.012800   \n",
       "std     2886.89568  7.193619e+04     96.653299     10.487806      2.892174   \n",
       "min        1.00000  1.556570e+07    350.000000     18.000000      0.000000   \n",
       "25%     2500.75000  1.562853e+07    584.000000     32.000000      3.000000   \n",
       "50%     5000.50000  1.569074e+07    652.000000     37.000000      5.000000   \n",
       "75%     7500.25000  1.575323e+07    718.000000     44.000000      7.000000   \n",
       "max    10000.00000  1.581569e+07    850.000000     92.000000     10.000000   \n",
       "\n",
       "             Balance  NumOfProducts    HasCrCard  IsActiveMember  \\\n",
       "count   10000.000000   10000.000000  10000.00000    10000.000000   \n",
       "mean    76485.889288       1.530200      0.70550        0.515100   \n",
       "std     62397.405202       0.581654      0.45584        0.499797   \n",
       "min         0.000000       1.000000      0.00000        0.000000   \n",
       "25%         0.000000       1.000000      0.00000        0.000000   \n",
       "50%     97198.540000       1.000000      1.00000        1.000000   \n",
       "75%    127644.240000       2.000000      1.00000        1.000000   \n",
       "max    250898.090000       4.000000      1.00000        1.000000   \n",
       "\n",
       "       EstimatedSalary        Exited  \n",
       "count     10000.000000  10000.000000  \n",
       "mean     100090.239881      0.203700  \n",
       "std       57510.492818      0.402769  \n",
       "min          11.580000      0.000000  \n",
       "25%       51002.110000      0.000000  \n",
       "50%      100193.915000      0.000000  \n",
       "75%      149388.247500      0.000000  \n",
       "max      199992.480000      1.000000  "
      ]
     },
     "execution_count": 6,
     "metadata": {},
     "output_type": "execute_result"
    }
   ],
   "source": [
    "dataset.describe()"
   ]
  },
  {
   "cell_type": "code",
   "execution_count": 7,
   "id": "e8da2411",
   "metadata": {},
   "outputs": [
    {
     "data": {
      "text/plain": [
       "RowNumber          0\n",
       "CustomerId         0\n",
       "Surname            0\n",
       "CreditScore        0\n",
       "Geography          0\n",
       "Gender             0\n",
       "Age                0\n",
       "Tenure             0\n",
       "Balance            0\n",
       "NumOfProducts      0\n",
       "HasCrCard          0\n",
       "IsActiveMember     0\n",
       "EstimatedSalary    0\n",
       "Exited             0\n",
       "dtype: int64"
      ]
     },
     "execution_count": 7,
     "metadata": {},
     "output_type": "execute_result"
    }
   ],
   "source": [
    "dataset.isnull().sum()"
   ]
  },
  {
   "cell_type": "code",
   "execution_count": 8,
   "id": "1aa75814",
   "metadata": {},
   "outputs": [
    {
     "data": {
      "text/plain": [
       "Index(['RowNumber', 'CustomerId', 'Surname', 'CreditScore', 'Geography',\n",
       "       'Gender', 'Age', 'Tenure', 'Balance', 'NumOfProducts', 'HasCrCard',\n",
       "       'IsActiveMember', 'EstimatedSalary', 'Exited'],\n",
       "      dtype='object')"
      ]
     },
     "execution_count": 8,
     "metadata": {},
     "output_type": "execute_result"
    }
   ],
   "source": [
    "dataset.columns"
   ]
  },
  {
   "cell_type": "code",
   "execution_count": 9,
   "id": "e35a7201",
   "metadata": {},
   "outputs": [],
   "source": [
    "cols = ['Surname', 'CreditScore', 'Geography',\n",
    "       'Gender', 'Age', 'Tenure', 'Balance', 'NumOfProducts', 'HasCrCard',\n",
    "       'IsActiveMember', 'EstimatedSalary', 'Exited']"
   ]
  },
  {
   "cell_type": "code",
   "execution_count": 10,
   "id": "70a4002b",
   "metadata": {},
   "outputs": [],
   "source": [
    "dataset = dataset[cols]"
   ]
  },
  {
   "cell_type": "markdown",
   "id": "c98e0a5a",
   "metadata": {},
   "source": [
    "### Exploratory Data Analysis"
   ]
  },
  {
   "cell_type": "code",
   "execution_count": 11,
   "id": "23e90b6c",
   "metadata": {},
   "outputs": [
    {
     "data": {
      "text/plain": [
       "0    7963\n",
       "1    2037\n",
       "Name: Exited, dtype: int64"
      ]
     },
     "execution_count": 11,
     "metadata": {},
     "output_type": "execute_result"
    }
   ],
   "source": [
    "dataset[\"Exited\"].value_counts()"
   ]
  },
  {
   "cell_type": "code",
   "execution_count": 12,
   "id": "b66367d6",
   "metadata": {},
   "outputs": [],
   "source": [
    "# Encoding categorical data\n",
    "#from sklearn.preprocessing import LabelEncoder, OneHotEncoder\n",
    "#labelencoder_X_1 = LabelEncoder()\n",
    "#X[:, 1] = labelencoder_X_1.fit_transform(X[:, 1])\n",
    "#labelencoder_X_2 = LabelEncoder()\n",
    "#X[:, 2] = labelencoder_X_2.fit_transform(X[:, 2])\n",
    "#onehotencoder = OneHotEncoder()\n",
    "#X = onehotencoder.fit_transform(X).toarray()\n",
    "#X = X[:, 1:]"
   ]
  },
  {
   "cell_type": "code",
   "execution_count": 13,
   "id": "4ee9680b",
   "metadata": {},
   "outputs": [],
   "source": [
    "# convert categorical feature into dummy variables\n",
    "geography_dummies=pd.get_dummies(dataset[\"Geography\"],drop_first=True)\n",
    "gender_dummies=pd.get_dummies(dataset[\"Gender\"],drop_first=True)"
   ]
  },
  {
   "cell_type": "code",
   "execution_count": 14,
   "id": "e4d9fc87",
   "metadata": {},
   "outputs": [],
   "source": [
    "dataset= dataset[['Surname','CreditScore','Geography','Gender','Age','Tenure','Balance','NumOfProducts','HasCrCard','IsActiveMember','EstimatedSalary','Exited']]"
   ]
  },
  {
   "cell_type": "code",
   "execution_count": 15,
   "id": "9be847a9",
   "metadata": {},
   "outputs": [
    {
     "data": {
      "text/html": [
       "<div>\n",
       "<style scoped>\n",
       "    .dataframe tbody tr th:only-of-type {\n",
       "        vertical-align: middle;\n",
       "    }\n",
       "\n",
       "    .dataframe tbody tr th {\n",
       "        vertical-align: top;\n",
       "    }\n",
       "\n",
       "    .dataframe thead th {\n",
       "        text-align: right;\n",
       "    }\n",
       "</style>\n",
       "<table border=\"1\" class=\"dataframe\">\n",
       "  <thead>\n",
       "    <tr style=\"text-align: right;\">\n",
       "      <th></th>\n",
       "      <th>Surname</th>\n",
       "      <th>CreditScore</th>\n",
       "      <th>Geography</th>\n",
       "      <th>Gender</th>\n",
       "      <th>Age</th>\n",
       "      <th>Tenure</th>\n",
       "      <th>Balance</th>\n",
       "      <th>NumOfProducts</th>\n",
       "      <th>HasCrCard</th>\n",
       "      <th>IsActiveMember</th>\n",
       "      <th>EstimatedSalary</th>\n",
       "      <th>Exited</th>\n",
       "    </tr>\n",
       "  </thead>\n",
       "  <tbody>\n",
       "    <tr>\n",
       "      <th>0</th>\n",
       "      <td>Hargrave</td>\n",
       "      <td>619</td>\n",
       "      <td>France</td>\n",
       "      <td>Female</td>\n",
       "      <td>42</td>\n",
       "      <td>2</td>\n",
       "      <td>0.00</td>\n",
       "      <td>1</td>\n",
       "      <td>1</td>\n",
       "      <td>1</td>\n",
       "      <td>101348.88</td>\n",
       "      <td>1</td>\n",
       "    </tr>\n",
       "    <tr>\n",
       "      <th>1</th>\n",
       "      <td>Hill</td>\n",
       "      <td>608</td>\n",
       "      <td>Spain</td>\n",
       "      <td>Female</td>\n",
       "      <td>41</td>\n",
       "      <td>1</td>\n",
       "      <td>83807.86</td>\n",
       "      <td>1</td>\n",
       "      <td>0</td>\n",
       "      <td>1</td>\n",
       "      <td>112542.58</td>\n",
       "      <td>0</td>\n",
       "    </tr>\n",
       "    <tr>\n",
       "      <th>2</th>\n",
       "      <td>Onio</td>\n",
       "      <td>502</td>\n",
       "      <td>France</td>\n",
       "      <td>Female</td>\n",
       "      <td>42</td>\n",
       "      <td>8</td>\n",
       "      <td>159660.80</td>\n",
       "      <td>3</td>\n",
       "      <td>1</td>\n",
       "      <td>0</td>\n",
       "      <td>113931.57</td>\n",
       "      <td>1</td>\n",
       "    </tr>\n",
       "    <tr>\n",
       "      <th>3</th>\n",
       "      <td>Boni</td>\n",
       "      <td>699</td>\n",
       "      <td>France</td>\n",
       "      <td>Female</td>\n",
       "      <td>39</td>\n",
       "      <td>1</td>\n",
       "      <td>0.00</td>\n",
       "      <td>2</td>\n",
       "      <td>0</td>\n",
       "      <td>0</td>\n",
       "      <td>93826.63</td>\n",
       "      <td>0</td>\n",
       "    </tr>\n",
       "    <tr>\n",
       "      <th>4</th>\n",
       "      <td>Mitchell</td>\n",
       "      <td>850</td>\n",
       "      <td>Spain</td>\n",
       "      <td>Female</td>\n",
       "      <td>43</td>\n",
       "      <td>2</td>\n",
       "      <td>125510.82</td>\n",
       "      <td>1</td>\n",
       "      <td>1</td>\n",
       "      <td>1</td>\n",
       "      <td>79084.10</td>\n",
       "      <td>0</td>\n",
       "    </tr>\n",
       "  </tbody>\n",
       "</table>\n",
       "</div>"
      ],
      "text/plain": [
       "    Surname  CreditScore Geography  Gender  Age  Tenure    Balance  \\\n",
       "0  Hargrave          619    France  Female   42       2       0.00   \n",
       "1      Hill          608     Spain  Female   41       1   83807.86   \n",
       "2      Onio          502    France  Female   42       8  159660.80   \n",
       "3      Boni          699    France  Female   39       1       0.00   \n",
       "4  Mitchell          850     Spain  Female   43       2  125510.82   \n",
       "\n",
       "   NumOfProducts  HasCrCard  IsActiveMember  EstimatedSalary  Exited  \n",
       "0              1          1               1        101348.88       1  \n",
       "1              1          0               1        112542.58       0  \n",
       "2              3          1               0        113931.57       1  \n",
       "3              2          0               0         93826.63       0  \n",
       "4              1          1               1         79084.10       0  "
      ]
     },
     "execution_count": 15,
     "metadata": {},
     "output_type": "execute_result"
    }
   ],
   "source": [
    "dataset.head()"
   ]
  },
  {
   "cell_type": "code",
   "execution_count": 16,
   "id": "b9991e1b",
   "metadata": {},
   "outputs": [],
   "source": [
    "#concatenate the remaining dummies columns\n",
    "new_dataset=pd.concat([dataset,geography_dummies,gender_dummies],axis=1)"
   ]
  },
  {
   "cell_type": "code",
   "execution_count": 17,
   "id": "0feafdea",
   "metadata": {},
   "outputs": [
    {
     "data": {
      "text/plain": [
       "Index(['Surname', 'CreditScore', 'Geography', 'Gender', 'Age', 'Tenure',\n",
       "       'Balance', 'NumOfProducts', 'HasCrCard', 'IsActiveMember',\n",
       "       'EstimatedSalary', 'Exited', 'Germany', 'Spain', 'Male'],\n",
       "      dtype='object')"
      ]
     },
     "execution_count": 17,
     "metadata": {},
     "output_type": "execute_result"
    }
   ],
   "source": [
    "new_dataset.columns"
   ]
  },
  {
   "cell_type": "code",
   "execution_count": 18,
   "id": "b71f663e",
   "metadata": {},
   "outputs": [
    {
     "data": {
      "text/html": [
       "<div>\n",
       "<style scoped>\n",
       "    .dataframe tbody tr th:only-of-type {\n",
       "        vertical-align: middle;\n",
       "    }\n",
       "\n",
       "    .dataframe tbody tr th {\n",
       "        vertical-align: top;\n",
       "    }\n",
       "\n",
       "    .dataframe thead th {\n",
       "        text-align: right;\n",
       "    }\n",
       "</style>\n",
       "<table border=\"1\" class=\"dataframe\">\n",
       "  <thead>\n",
       "    <tr style=\"text-align: right;\">\n",
       "      <th></th>\n",
       "      <th>Surname</th>\n",
       "      <th>CreditScore</th>\n",
       "      <th>Geography</th>\n",
       "      <th>Gender</th>\n",
       "      <th>Age</th>\n",
       "      <th>Tenure</th>\n",
       "      <th>Balance</th>\n",
       "      <th>NumOfProducts</th>\n",
       "      <th>HasCrCard</th>\n",
       "      <th>IsActiveMember</th>\n",
       "      <th>EstimatedSalary</th>\n",
       "      <th>Exited</th>\n",
       "      <th>Germany</th>\n",
       "      <th>Spain</th>\n",
       "      <th>Male</th>\n",
       "    </tr>\n",
       "  </thead>\n",
       "  <tbody>\n",
       "    <tr>\n",
       "      <th>0</th>\n",
       "      <td>Hargrave</td>\n",
       "      <td>619</td>\n",
       "      <td>France</td>\n",
       "      <td>Female</td>\n",
       "      <td>42</td>\n",
       "      <td>2</td>\n",
       "      <td>0.00</td>\n",
       "      <td>1</td>\n",
       "      <td>1</td>\n",
       "      <td>1</td>\n",
       "      <td>101348.88</td>\n",
       "      <td>1</td>\n",
       "      <td>0</td>\n",
       "      <td>0</td>\n",
       "      <td>0</td>\n",
       "    </tr>\n",
       "    <tr>\n",
       "      <th>1</th>\n",
       "      <td>Hill</td>\n",
       "      <td>608</td>\n",
       "      <td>Spain</td>\n",
       "      <td>Female</td>\n",
       "      <td>41</td>\n",
       "      <td>1</td>\n",
       "      <td>83807.86</td>\n",
       "      <td>1</td>\n",
       "      <td>0</td>\n",
       "      <td>1</td>\n",
       "      <td>112542.58</td>\n",
       "      <td>0</td>\n",
       "      <td>0</td>\n",
       "      <td>1</td>\n",
       "      <td>0</td>\n",
       "    </tr>\n",
       "    <tr>\n",
       "      <th>2</th>\n",
       "      <td>Onio</td>\n",
       "      <td>502</td>\n",
       "      <td>France</td>\n",
       "      <td>Female</td>\n",
       "      <td>42</td>\n",
       "      <td>8</td>\n",
       "      <td>159660.80</td>\n",
       "      <td>3</td>\n",
       "      <td>1</td>\n",
       "      <td>0</td>\n",
       "      <td>113931.57</td>\n",
       "      <td>1</td>\n",
       "      <td>0</td>\n",
       "      <td>0</td>\n",
       "      <td>0</td>\n",
       "    </tr>\n",
       "    <tr>\n",
       "      <th>3</th>\n",
       "      <td>Boni</td>\n",
       "      <td>699</td>\n",
       "      <td>France</td>\n",
       "      <td>Female</td>\n",
       "      <td>39</td>\n",
       "      <td>1</td>\n",
       "      <td>0.00</td>\n",
       "      <td>2</td>\n",
       "      <td>0</td>\n",
       "      <td>0</td>\n",
       "      <td>93826.63</td>\n",
       "      <td>0</td>\n",
       "      <td>0</td>\n",
       "      <td>0</td>\n",
       "      <td>0</td>\n",
       "    </tr>\n",
       "    <tr>\n",
       "      <th>4</th>\n",
       "      <td>Mitchell</td>\n",
       "      <td>850</td>\n",
       "      <td>Spain</td>\n",
       "      <td>Female</td>\n",
       "      <td>43</td>\n",
       "      <td>2</td>\n",
       "      <td>125510.82</td>\n",
       "      <td>1</td>\n",
       "      <td>1</td>\n",
       "      <td>1</td>\n",
       "      <td>79084.10</td>\n",
       "      <td>0</td>\n",
       "      <td>0</td>\n",
       "      <td>1</td>\n",
       "      <td>0</td>\n",
       "    </tr>\n",
       "  </tbody>\n",
       "</table>\n",
       "</div>"
      ],
      "text/plain": [
       "    Surname  CreditScore Geography  Gender  Age  Tenure    Balance  \\\n",
       "0  Hargrave          619    France  Female   42       2       0.00   \n",
       "1      Hill          608     Spain  Female   41       1   83807.86   \n",
       "2      Onio          502    France  Female   42       8  159660.80   \n",
       "3      Boni          699    France  Female   39       1       0.00   \n",
       "4  Mitchell          850     Spain  Female   43       2  125510.82   \n",
       "\n",
       "   NumOfProducts  HasCrCard  IsActiveMember  EstimatedSalary  Exited  Germany  \\\n",
       "0              1          1               1        101348.88       1        0   \n",
       "1              1          0               1        112542.58       0        0   \n",
       "2              3          1               0        113931.57       1        0   \n",
       "3              2          0               0         93826.63       0        0   \n",
       "4              1          1               1         79084.10       0        0   \n",
       "\n",
       "   Spain  Male  \n",
       "0      0     0  \n",
       "1      1     0  \n",
       "2      0     0  \n",
       "3      0     0  \n",
       "4      1     0  "
      ]
     },
     "execution_count": 18,
     "metadata": {},
     "output_type": "execute_result"
    }
   ],
   "source": [
    "new_dataset.head()"
   ]
  },
  {
   "cell_type": "code",
   "execution_count": 19,
   "id": "b94243dc",
   "metadata": {},
   "outputs": [],
   "source": [
    "#drop the columns as it is no longer required\n",
    "\n",
    "new_dataset=new_dataset.drop(['Geography','Gender'],axis=1)\n",
    "new_dataset=new_dataset.drop(['Surname'],axis=1)"
   ]
  },
  {
   "cell_type": "code",
   "execution_count": 20,
   "id": "29d3d5d9",
   "metadata": {},
   "outputs": [
    {
     "data": {
      "text/html": [
       "<div>\n",
       "<style scoped>\n",
       "    .dataframe tbody tr th:only-of-type {\n",
       "        vertical-align: middle;\n",
       "    }\n",
       "\n",
       "    .dataframe tbody tr th {\n",
       "        vertical-align: top;\n",
       "    }\n",
       "\n",
       "    .dataframe thead th {\n",
       "        text-align: right;\n",
       "    }\n",
       "</style>\n",
       "<table border=\"1\" class=\"dataframe\">\n",
       "  <thead>\n",
       "    <tr style=\"text-align: right;\">\n",
       "      <th></th>\n",
       "      <th>CreditScore</th>\n",
       "      <th>Age</th>\n",
       "      <th>Tenure</th>\n",
       "      <th>Balance</th>\n",
       "      <th>NumOfProducts</th>\n",
       "      <th>HasCrCard</th>\n",
       "      <th>IsActiveMember</th>\n",
       "      <th>EstimatedSalary</th>\n",
       "      <th>Exited</th>\n",
       "      <th>Germany</th>\n",
       "      <th>Spain</th>\n",
       "      <th>Male</th>\n",
       "    </tr>\n",
       "  </thead>\n",
       "  <tbody>\n",
       "    <tr>\n",
       "      <th>0</th>\n",
       "      <td>619</td>\n",
       "      <td>42</td>\n",
       "      <td>2</td>\n",
       "      <td>0.00</td>\n",
       "      <td>1</td>\n",
       "      <td>1</td>\n",
       "      <td>1</td>\n",
       "      <td>101348.88</td>\n",
       "      <td>1</td>\n",
       "      <td>0</td>\n",
       "      <td>0</td>\n",
       "      <td>0</td>\n",
       "    </tr>\n",
       "    <tr>\n",
       "      <th>1</th>\n",
       "      <td>608</td>\n",
       "      <td>41</td>\n",
       "      <td>1</td>\n",
       "      <td>83807.86</td>\n",
       "      <td>1</td>\n",
       "      <td>0</td>\n",
       "      <td>1</td>\n",
       "      <td>112542.58</td>\n",
       "      <td>0</td>\n",
       "      <td>0</td>\n",
       "      <td>1</td>\n",
       "      <td>0</td>\n",
       "    </tr>\n",
       "    <tr>\n",
       "      <th>2</th>\n",
       "      <td>502</td>\n",
       "      <td>42</td>\n",
       "      <td>8</td>\n",
       "      <td>159660.80</td>\n",
       "      <td>3</td>\n",
       "      <td>1</td>\n",
       "      <td>0</td>\n",
       "      <td>113931.57</td>\n",
       "      <td>1</td>\n",
       "      <td>0</td>\n",
       "      <td>0</td>\n",
       "      <td>0</td>\n",
       "    </tr>\n",
       "    <tr>\n",
       "      <th>3</th>\n",
       "      <td>699</td>\n",
       "      <td>39</td>\n",
       "      <td>1</td>\n",
       "      <td>0.00</td>\n",
       "      <td>2</td>\n",
       "      <td>0</td>\n",
       "      <td>0</td>\n",
       "      <td>93826.63</td>\n",
       "      <td>0</td>\n",
       "      <td>0</td>\n",
       "      <td>0</td>\n",
       "      <td>0</td>\n",
       "    </tr>\n",
       "    <tr>\n",
       "      <th>4</th>\n",
       "      <td>850</td>\n",
       "      <td>43</td>\n",
       "      <td>2</td>\n",
       "      <td>125510.82</td>\n",
       "      <td>1</td>\n",
       "      <td>1</td>\n",
       "      <td>1</td>\n",
       "      <td>79084.10</td>\n",
       "      <td>0</td>\n",
       "      <td>0</td>\n",
       "      <td>1</td>\n",
       "      <td>0</td>\n",
       "    </tr>\n",
       "  </tbody>\n",
       "</table>\n",
       "</div>"
      ],
      "text/plain": [
       "   CreditScore  Age  Tenure    Balance  NumOfProducts  HasCrCard  \\\n",
       "0          619   42       2       0.00              1          1   \n",
       "1          608   41       1   83807.86              1          0   \n",
       "2          502   42       8  159660.80              3          1   \n",
       "3          699   39       1       0.00              2          0   \n",
       "4          850   43       2  125510.82              1          1   \n",
       "\n",
       "   IsActiveMember  EstimatedSalary  Exited  Germany  Spain  Male  \n",
       "0               1        101348.88       1        0      0     0  \n",
       "1               1        112542.58       0        0      1     0  \n",
       "2               0        113931.57       1        0      0     0  \n",
       "3               0         93826.63       0        0      0     0  \n",
       "4               1         79084.10       0        0      1     0  "
      ]
     },
     "execution_count": 20,
     "metadata": {},
     "output_type": "execute_result"
    }
   ],
   "source": [
    "new_dataset.head()"
   ]
  },
  {
   "cell_type": "code",
   "execution_count": 21,
   "id": "95f48582",
   "metadata": {},
   "outputs": [
    {
     "data": {
      "text/plain": [
       "CreditScore        0\n",
       "Age                0\n",
       "Tenure             0\n",
       "Balance            0\n",
       "NumOfProducts      0\n",
       "HasCrCard          0\n",
       "IsActiveMember     0\n",
       "EstimatedSalary    0\n",
       "Exited             0\n",
       "Germany            0\n",
       "Spain              0\n",
       "Male               0\n",
       "dtype: int64"
      ]
     },
     "execution_count": 21,
     "metadata": {},
     "output_type": "execute_result"
    }
   ],
   "source": [
    "new_dataset.isnull().sum()"
   ]
  },
  {
   "cell_type": "code",
   "execution_count": 22,
   "id": "848828c0",
   "metadata": {},
   "outputs": [
    {
     "data": {
      "text/plain": [
       "Text(0, 0.5, 'Count')"
      ]
     },
     "execution_count": 22,
     "metadata": {},
     "output_type": "execute_result"
    },
    {
     "data": {
      "image/png": "[encoded data removed]",
      "text/plain": [
       "<Figure size 360x360 with 1 Axes>"
      ]
     },
     "metadata": {
      "needs_background": "light"
     },
     "output_type": "display_data"
    }
   ],
   "source": [
    "plt.figure(figsize=(5,5))\n",
    "sns.countplot(dataset[\"Exited\"])\n",
    "plt.title(\"Classes Count\")\n",
    "plt.xlabel(\"Outcome\")\n",
    "plt.ylabel(\"Count\")"
   ]
  },
  {
   "cell_type": "code",
   "execution_count": 23,
   "id": "cf3612a7",
   "metadata": {},
   "outputs": [
    {
     "data": {
      "text/plain": [
       "Text(0.5, 1.0, 'Correlation Heatmap')"
      ]
     },
     "execution_count": 23,
     "metadata": {},
     "output_type": "execute_result"
    },
    {
     "data": {
      "image/png": "[encoded data removed]",
      "text/plain": [
       "<Figure size 1440x576 with 2 Axes>"
      ]
     },
     "metadata": {
      "needs_background": "light"
     },
     "output_type": "display_data"
    }
   ],
   "source": [
    "plt.figure(figsize=(20, 8))\n",
    "heatmap = sns.heatmap(new_dataset.corr(), vmin=-1, vmax=1, annot=True, cmap='BrBG')\n",
    "heatmap.set_title('Correlation Heatmap', fontdict={'fontsize':18}, pad=12)"
   ]
  },
  {
   "cell_type": "markdown",
   "id": "1cb24056",
   "metadata": {},
   "source": [
    "### Feature Selection"
   ]
  },
  {
   "cell_type": "code",
   "execution_count": 24,
   "id": "19976aef",
   "metadata": {},
   "outputs": [],
   "source": [
    "from sklearn.feature_selection import SelectKBest, chi2"
   ]
  },
  {
   "cell_type": "code",
   "execution_count": 25,
   "id": "fcdf3662",
   "metadata": {},
   "outputs": [],
   "source": [
    "X = new_dataset.drop(\"Exited\", axis=1)\n",
    "y = new_dataset[\"Exited\"]"
   ]
  },
  {
   "cell_type": "code",
   "execution_count": 26,
   "id": "1cd666b1",
   "metadata": {},
   "outputs": [],
   "source": [
    "bestFeatures = SelectKBest(score_func=chi2, k=10)\n",
    "fit = bestFeatures.fit(X,y)"
   ]
  },
  {
   "cell_type": "code",
   "execution_count": 27,
   "id": "5bca4e83",
   "metadata": {},
   "outputs": [],
   "source": [
    "scores = pd.DataFrame(fit.scores_)\n",
    "cols = pd.DataFrame(X.columns)"
   ]
  },
  {
   "cell_type": "code",
   "execution_count": 28,
   "id": "2ce7d505",
   "metadata": {},
   "outputs": [
    {
     "name": "stdout",
     "output_type": "stream",
     "text": [
      "           Features         Score\n",
      "0       CreditScore  1.054035e+02\n",
      "1               Age  2.300417e+03\n",
      "2            Tenure  3.270538e+00\n",
      "3           Balance  7.151303e+06\n",
      "4     NumOfProducts  5.055394e+00\n",
      "5         HasCrCard  1.500410e-01\n",
      "6    IsActiveMember  1.181994e+02\n",
      "7   EstimatedSalary  4.835088e+04\n",
      "8           Germany  2.254644e+02\n",
      "9             Spain  2.086721e+01\n",
      "10             Male  5.153993e+01\n"
     ]
    }
   ],
   "source": [
    "bestFeaturesnew_dataset = pd.concat([cols, scores], axis=1)\n",
    "bestFeaturesnew_dataset.columns = ['Features', 'Score']\n",
    "print(bestFeaturesnew_dataset)"
   ]
  },
  {
   "cell_type": "code",
   "execution_count": 29,
   "id": "43b982da",
   "metadata": {},
   "outputs": [
    {
     "name": "stdout",
     "output_type": "stream",
     "text": [
      "           Features         Score\n",
      "3           Balance  7.151303e+06\n",
      "7   EstimatedSalary  4.835088e+04\n",
      "1               Age  2.300417e+03\n",
      "8           Germany  2.254644e+02\n",
      "6    IsActiveMember  1.181994e+02\n",
      "0       CreditScore  1.054035e+02\n",
      "10             Male  5.153993e+01\n",
      "9             Spain  2.086721e+01\n"
     ]
    }
   ],
   "source": [
    "print(bestFeaturesnew_dataset.nlargest(8, \"Score\"))"
   ]
  },
  {
   "cell_type": "code",
   "execution_count": 30,
   "id": "7f1b42a8",
   "metadata": {},
   "outputs": [],
   "source": [
    "bestOnes = ['Balance', 'EstimatedSalary', 'Age', 'Germany', 'IsActiveMember', 'CreditScore', 'Male', 'Spain']"
   ]
  },
  {
   "cell_type": "code",
   "execution_count": 31,
   "id": "9e58d516",
   "metadata": {},
   "outputs": [
    {
     "data": {
      "text/html": [
       "<div>\n",
       "<style scoped>\n",
       "    .dataframe tbody tr th:only-of-type {\n",
       "        vertical-align: middle;\n",
       "    }\n",
       "\n",
       "    .dataframe tbody tr th {\n",
       "        vertical-align: top;\n",
       "    }\n",
       "\n",
       "    .dataframe thead th {\n",
       "        text-align: right;\n",
       "    }\n",
       "</style>\n",
       "<table border=\"1\" class=\"dataframe\">\n",
       "  <thead>\n",
       "    <tr style=\"text-align: right;\">\n",
       "      <th></th>\n",
       "      <th>Balance</th>\n",
       "      <th>EstimatedSalary</th>\n",
       "      <th>Age</th>\n",
       "      <th>Germany</th>\n",
       "      <th>IsActiveMember</th>\n",
       "      <th>CreditScore</th>\n",
       "      <th>Male</th>\n",
       "      <th>Spain</th>\n",
       "    </tr>\n",
       "  </thead>\n",
       "  <tbody>\n",
       "    <tr>\n",
       "      <th>count</th>\n",
       "      <td>10000.000000</td>\n",
       "      <td>10000.000000</td>\n",
       "      <td>10000.000000</td>\n",
       "      <td>10000.000000</td>\n",
       "      <td>10000.000000</td>\n",
       "      <td>10000.000000</td>\n",
       "      <td>10000.000000</td>\n",
       "      <td>10000.000000</td>\n",
       "    </tr>\n",
       "    <tr>\n",
       "      <th>mean</th>\n",
       "      <td>76485.889288</td>\n",
       "      <td>100090.239881</td>\n",
       "      <td>38.921800</td>\n",
       "      <td>0.250900</td>\n",
       "      <td>0.515100</td>\n",
       "      <td>650.528800</td>\n",
       "      <td>0.545700</td>\n",
       "      <td>0.247700</td>\n",
       "    </tr>\n",
       "    <tr>\n",
       "      <th>std</th>\n",
       "      <td>62397.405202</td>\n",
       "      <td>57510.492818</td>\n",
       "      <td>10.487806</td>\n",
       "      <td>0.433553</td>\n",
       "      <td>0.499797</td>\n",
       "      <td>96.653299</td>\n",
       "      <td>0.497932</td>\n",
       "      <td>0.431698</td>\n",
       "    </tr>\n",
       "    <tr>\n",
       "      <th>min</th>\n",
       "      <td>0.000000</td>\n",
       "      <td>11.580000</td>\n",
       "      <td>18.000000</td>\n",
       "      <td>0.000000</td>\n",
       "      <td>0.000000</td>\n",
       "      <td>350.000000</td>\n",
       "      <td>0.000000</td>\n",
       "      <td>0.000000</td>\n",
       "    </tr>\n",
       "    <tr>\n",
       "      <th>25%</th>\n",
       "      <td>0.000000</td>\n",
       "      <td>51002.110000</td>\n",
       "      <td>32.000000</td>\n",
       "      <td>0.000000</td>\n",
       "      <td>0.000000</td>\n",
       "      <td>584.000000</td>\n",
       "      <td>0.000000</td>\n",
       "      <td>0.000000</td>\n",
       "    </tr>\n",
       "    <tr>\n",
       "      <th>50%</th>\n",
       "      <td>97198.540000</td>\n",
       "      <td>100193.915000</td>\n",
       "      <td>37.000000</td>\n",
       "      <td>0.000000</td>\n",
       "      <td>1.000000</td>\n",
       "      <td>652.000000</td>\n",
       "      <td>1.000000</td>\n",
       "      <td>0.000000</td>\n",
       "    </tr>\n",
       "    <tr>\n",
       "      <th>75%</th>\n",
       "      <td>127644.240000</td>\n",
       "      <td>149388.247500</td>\n",
       "      <td>44.000000</td>\n",
       "      <td>1.000000</td>\n",
       "      <td>1.000000</td>\n",
       "      <td>718.000000</td>\n",
       "      <td>1.000000</td>\n",
       "      <td>0.000000</td>\n",
       "    </tr>\n",
       "    <tr>\n",
       "      <th>max</th>\n",
       "      <td>250898.090000</td>\n",
       "      <td>199992.480000</td>\n",
       "      <td>92.000000</td>\n",
       "      <td>1.000000</td>\n",
       "      <td>1.000000</td>\n",
       "      <td>850.000000</td>\n",
       "      <td>1.000000</td>\n",
       "      <td>1.000000</td>\n",
       "    </tr>\n",
       "  </tbody>\n",
       "</table>\n",
       "</div>"
      ],
      "text/plain": [
       "             Balance  EstimatedSalary           Age       Germany  \\\n",
       "count   10000.000000     10000.000000  10000.000000  10000.000000   \n",
       "mean    76485.889288    100090.239881     38.921800      0.250900   \n",
       "std     62397.405202     57510.492818     10.487806      0.433553   \n",
       "min         0.000000        11.580000     18.000000      0.000000   \n",
       "25%         0.000000     51002.110000     32.000000      0.000000   \n",
       "50%     97198.540000    100193.915000     37.000000      0.000000   \n",
       "75%    127644.240000    149388.247500     44.000000      1.000000   \n",
       "max    250898.090000    199992.480000     92.000000      1.000000   \n",
       "\n",
       "       IsActiveMember   CreditScore          Male         Spain  \n",
       "count    10000.000000  10000.000000  10000.000000  10000.000000  \n",
       "mean         0.515100    650.528800      0.545700      0.247700  \n",
       "std          0.499797     96.653299      0.497932      0.431698  \n",
       "min          0.000000    350.000000      0.000000      0.000000  \n",
       "25%          0.000000    584.000000      0.000000      0.000000  \n",
       "50%          1.000000    652.000000      1.000000      0.000000  \n",
       "75%          1.000000    718.000000      1.000000      0.000000  \n",
       "max          1.000000    850.000000      1.000000      1.000000  "
      ]
     },
     "execution_count": 31,
     "metadata": {},
     "output_type": "execute_result"
    }
   ],
   "source": [
    "new_dataset[bestOnes].describe()"
   ]
  },
  {
   "cell_type": "code",
   "execution_count": 32,
   "id": "5351245e",
   "metadata": {},
   "outputs": [],
   "source": [
    "X = new_dataset[bestOnes]\n",
    "y = new_dataset[\"Exited\"]"
   ]
  },
  {
   "cell_type": "code",
   "execution_count": 33,
   "id": "2ee22c86",
   "metadata": {},
   "outputs": [
    {
     "name": "stdout",
     "output_type": "stream",
     "text": [
      "(10000, 8) (10000,)\n"
     ]
    }
   ],
   "source": [
    "print(X.shape, y.shape)"
   ]
  },
  {
   "cell_type": "code",
   "execution_count": 34,
   "id": "de48796f",
   "metadata": {},
   "outputs": [
    {
     "data": {
      "text/html": [
       "<div>\n",
       "<style scoped>\n",
       "    .dataframe tbody tr th:only-of-type {\n",
       "        vertical-align: middle;\n",
       "    }\n",
       "\n",
       "    .dataframe tbody tr th {\n",
       "        vertical-align: top;\n",
       "    }\n",
       "\n",
       "    .dataframe thead th {\n",
       "        text-align: right;\n",
       "    }\n",
       "</style>\n",
       "<table border=\"1\" class=\"dataframe\">\n",
       "  <thead>\n",
       "    <tr style=\"text-align: right;\">\n",
       "      <th></th>\n",
       "      <th>Balance</th>\n",
       "      <th>EstimatedSalary</th>\n",
       "      <th>Age</th>\n",
       "      <th>Germany</th>\n",
       "      <th>IsActiveMember</th>\n",
       "      <th>CreditScore</th>\n",
       "      <th>Male</th>\n",
       "      <th>Spain</th>\n",
       "    </tr>\n",
       "  </thead>\n",
       "  <tbody>\n",
       "    <tr>\n",
       "      <th>0</th>\n",
       "      <td>0.00</td>\n",
       "      <td>101348.88</td>\n",
       "      <td>42</td>\n",
       "      <td>0</td>\n",
       "      <td>1</td>\n",
       "      <td>619</td>\n",
       "      <td>0</td>\n",
       "      <td>0</td>\n",
       "    </tr>\n",
       "    <tr>\n",
       "      <th>1</th>\n",
       "      <td>83807.86</td>\n",
       "      <td>112542.58</td>\n",
       "      <td>41</td>\n",
       "      <td>0</td>\n",
       "      <td>1</td>\n",
       "      <td>608</td>\n",
       "      <td>0</td>\n",
       "      <td>1</td>\n",
       "    </tr>\n",
       "    <tr>\n",
       "      <th>2</th>\n",
       "      <td>159660.80</td>\n",
       "      <td>113931.57</td>\n",
       "      <td>42</td>\n",
       "      <td>0</td>\n",
       "      <td>0</td>\n",
       "      <td>502</td>\n",
       "      <td>0</td>\n",
       "      <td>0</td>\n",
       "    </tr>\n",
       "    <tr>\n",
       "      <th>3</th>\n",
       "      <td>0.00</td>\n",
       "      <td>93826.63</td>\n",
       "      <td>39</td>\n",
       "      <td>0</td>\n",
       "      <td>0</td>\n",
       "      <td>699</td>\n",
       "      <td>0</td>\n",
       "      <td>0</td>\n",
       "    </tr>\n",
       "    <tr>\n",
       "      <th>4</th>\n",
       "      <td>125510.82</td>\n",
       "      <td>79084.10</td>\n",
       "      <td>43</td>\n",
       "      <td>0</td>\n",
       "      <td>1</td>\n",
       "      <td>850</td>\n",
       "      <td>0</td>\n",
       "      <td>1</td>\n",
       "    </tr>\n",
       "  </tbody>\n",
       "</table>\n",
       "</div>"
      ],
      "text/plain": [
       "     Balance  EstimatedSalary  Age  Germany  IsActiveMember  CreditScore  \\\n",
       "0       0.00        101348.88   42        0               1          619   \n",
       "1   83807.86        112542.58   41        0               1          608   \n",
       "2  159660.80        113931.57   42        0               0          502   \n",
       "3       0.00         93826.63   39        0               0          699   \n",
       "4  125510.82         79084.10   43        0               1          850   \n",
       "\n",
       "   Male  Spain  \n",
       "0     0      0  \n",
       "1     0      1  \n",
       "2     0      0  \n",
       "3     0      0  \n",
       "4     0      1  "
      ]
     },
     "execution_count": 34,
     "metadata": {},
     "output_type": "execute_result"
    }
   ],
   "source": [
    "X.head()"
   ]
  },
  {
   "cell_type": "markdown",
   "id": "c953e4e9",
   "metadata": {},
   "source": [
    "### Working on the Imbalanced Data"
   ]
  },
  {
   "cell_type": "code",
   "execution_count": 35,
   "id": "fe2f8bca",
   "metadata": {},
   "outputs": [],
   "source": [
    "yes_exited = new_dataset[new_dataset[\"Exited\"] == 1]\n",
    "no_exited = new_dataset[new_dataset[\"Exited\"] == 0]"
   ]
  },
  {
   "cell_type": "code",
   "execution_count": 36,
   "id": "ee31a7ef",
   "metadata": {},
   "outputs": [
    {
     "name": "stdout",
     "output_type": "stream",
     "text": [
      "(2037, 12) (7963, 12)\n"
     ]
    }
   ],
   "source": [
    "print(yes_exited.shape, no_exited.shape)"
   ]
  },
  {
   "cell_type": "code",
   "execution_count": 37,
   "id": "ae98e42b",
   "metadata": {},
   "outputs": [],
   "source": [
    "from imblearn.over_sampling import SMOTE"
   ]
  },
  {
   "cell_type": "code",
   "execution_count": 38,
   "id": "b5f07691",
   "metadata": {},
   "outputs": [],
   "source": [
    "from imblearn.combine import SMOTETomek "
   ]
  },
  {
   "cell_type": "code",
   "execution_count": 39,
   "id": "db0952ec",
   "metadata": {},
   "outputs": [],
   "source": [
    "from collections import Counter"
   ]
  },
  {
   "cell_type": "code",
   "execution_count": 40,
   "id": "a36ae13a",
   "metadata": {},
   "outputs": [],
   "source": [
    "sm = SMOTE(random_state=123)"
   ]
  },
  {
   "cell_type": "code",
   "execution_count": 41,
   "id": "5f4b9cf3",
   "metadata": {},
   "outputs": [],
   "source": [
    "X_res, y_res = sm.fit_resample(X, y)"
   ]
  },
  {
   "cell_type": "code",
   "execution_count": 42,
   "id": "b84c1c62",
   "metadata": {},
   "outputs": [
    {
     "name": "stdout",
     "output_type": "stream",
     "text": [
      "(15926, 8) (15926,)\n"
     ]
    }
   ],
   "source": [
    "print(X_res.shape, y_res.shape)"
   ]
  },
  {
   "cell_type": "code",
   "execution_count": 43,
   "id": "c2bedf50",
   "metadata": {},
   "outputs": [
    {
     "name": "stdout",
     "output_type": "stream",
     "text": [
      "Original dataset shape Counter({0: 7963, 1: 2037})\n",
      "Resampled dataset shape Counter({1: 7963, 0: 7963})\n"
     ]
    }
   ],
   "source": [
    "print(\"Original dataset shape {}\".format(Counter(y)))\n",
    "print(\"Resampled dataset shape {}\".format(Counter(y_res)))"
   ]
  },
  {
   "cell_type": "code",
   "execution_count": 44,
   "id": "8709b9e2",
   "metadata": {},
   "outputs": [
    {
     "data": {
      "text/plain": [
       "1    7963\n",
       "0    7963\n",
       "Name: Exited, dtype: int64"
      ]
     },
     "execution_count": 44,
     "metadata": {},
     "output_type": "execute_result"
    }
   ],
   "source": [
    "y_res.value_counts()"
   ]
  },
  {
   "cell_type": "code",
   "execution_count": 45,
   "id": "bb3b74b7",
   "metadata": {},
   "outputs": [],
   "source": [
    "# Splitting the dataset into the Training set and Test set\n",
    "from sklearn.model_selection import train_test_split\n",
    "X_train, X_test, y_train, y_test = train_test_split(X, y, test_size = 0.2, random_state = 0)"
   ]
  },
  {
   "cell_type": "code",
   "execution_count": 46,
   "id": "2451f0d5",
   "metadata": {},
   "outputs": [],
   "source": [
    "# Feature Scaling\n",
    "from sklearn.preprocessing import StandardScaler\n",
    "sc = StandardScaler()\n",
    "X_train = sc.fit_transform(X_train)\n",
    "X_test = sc.transform(X_test)"
   ]
  },
  {
   "cell_type": "code",
   "execution_count": 47,
   "id": "abacd0a7",
   "metadata": {},
   "outputs": [
    {
     "data": {
      "text/plain": [
       "(8000, 8)"
      ]
     },
     "execution_count": 47,
     "metadata": {},
     "output_type": "execute_result"
    }
   ],
   "source": [
    "X_train.shape"
   ]
  },
  {
   "cell_type": "code",
   "execution_count": 48,
   "id": "146ad6f4",
   "metadata": {},
   "outputs": [
    {
     "data": {
      "text/plain": [
       "(2000, 8)"
      ]
     },
     "execution_count": 48,
     "metadata": {},
     "output_type": "execute_result"
    }
   ],
   "source": [
    "X_test.shape"
   ]
  },
  {
   "cell_type": "code",
   "execution_count": 49,
   "id": "5b0c0c41",
   "metadata": {},
   "outputs": [
    {
     "data": {
      "text/plain": [
       "array([[-1.21571749,  1.10643166, -0.46460796, -0.5698444 , -1.03227043,\n",
       "         0.16958176, -1.09168714,  1.74309049],\n",
       "       [-0.00631193, -0.74866447,  0.30102557,  1.75486502,  0.9687384 ,\n",
       "        -2.30455945,  0.91601335, -0.57369368],\n",
       "       [ 0.57993469,  1.48533467, -0.94312892, -0.5698444 , -1.03227043,\n",
       "        -1.19119591, -1.09168714, -0.57369368],\n",
       "       [ 0.47312769,  1.27652776,  0.10961719, -0.5698444 , -1.03227043,\n",
       "         0.03556578,  0.91601335,  1.74309049],\n",
       "       [ 0.8101927 ,  0.55837842,  1.73658844, -0.5698444 ,  0.9687384 ,\n",
       "         2.05611444, -1.09168714,  1.74309049],\n",
       "       [ 0.44253504,  1.63252134, -0.17749539,  1.75486502, -1.03227043,\n",
       "         1.29325423, -1.09168714, -0.57369368],\n",
       "       [ 0.30432823,  0.48149647,  0.77954653, -0.5698444 , -1.03227043,\n",
       "         1.6128308 ,  0.91601335, -0.57369368],\n",
       "       [-1.21571749,  1.07382167,  0.20532138, -0.5698444 ,  0.9687384 ,\n",
       "        -0.54173384,  0.91601335,  1.74309049],\n",
       "       [ 0.80633029, -1.04949755,  3.55496808, -0.5698444 ,  0.9687384 ,\n",
       "        -0.14999481,  0.91601335,  1.74309049],\n",
       "       [ 1.48636403,  0.01539358, -0.65601634, -0.5698444 , -1.03227043,\n",
       "        -0.29431972, -1.09168714, -0.57369368]])"
      ]
     },
     "execution_count": 49,
     "metadata": {},
     "output_type": "execute_result"
    }
   ],
   "source": [
    "X_train[:10]"
   ]
  },
  {
   "cell_type": "markdown",
   "id": "d5ec632f",
   "metadata": {},
   "source": [
    "### Building Model"
   ]
  },
  {
   "cell_type": "code",
   "execution_count": 50,
   "id": "349a8964",
   "metadata": {},
   "outputs": [],
   "source": [
    "# Importing the Keras libraries and packages\n",
    "import keras\n",
    "from keras.models import Sequential\n",
    "from keras.layers import Dense"
   ]
  },
  {
   "cell_type": "code",
   "execution_count": 51,
   "id": "4948aa9e",
   "metadata": {},
   "outputs": [],
   "source": [
    "# Initialising the ANN\n",
    "classifier = Sequential()\n",
    "\n",
    "# Adding the input layer and the first hidden layer\n",
    "classifier.add(Dense(activation=\"relu\", input_shape=(8, ), units=6, kernel_initializer=\"uniform\"))\n",
    "\n",
    "# Adding the second hidden layer\n",
    "classifier.add(Dense(activation=\"relu\", units=6, kernel_initializer=\"uniform\"))\n",
    "\n",
    "# Adding the output layer\n",
    "classifier.add(Dense(activation=\"sigmoid\", units=1, kernel_initializer=\"uniform\"))"
   ]
  },
  {
   "cell_type": "code",
   "execution_count": 52,
   "id": "05a44a74",
   "metadata": {},
   "outputs": [],
   "source": [
    "classifier.compile(loss='binary_crossentropy', \n",
    "                     optimizer='adam',\n",
    "                     metrics=['accuracy'])"
   ]
  },
  {
   "cell_type": "code",
   "execution_count": 53,
   "id": "f5dd7bdb",
   "metadata": {},
   "outputs": [
    {
     "name": "stdout",
     "output_type": "stream",
     "text": [
      "Model: \"sequential\"\n",
      "_________________________________________________________________\n",
      " Layer (type)                Output Shape              Param #   \n",
      "=================================================================\n",
      " dense (Dense)               (None, 6)                 54        \n",
      "                                                                 \n",
      " dense_1 (Dense)             (None, 6)                 42        \n",
      "                                                                 \n",
      " dense_2 (Dense)             (None, 1)                 7         \n",
      "                                                                 \n",
      "=================================================================\n",
      "Total params: 103\n",
      "Trainable params: 103\n",
      "Non-trainable params: 0\n",
      "_________________________________________________________________\n"
     ]
    }
   ],
   "source": [
    "classifier.summary()"
   ]
  },
  {
   "cell_type": "code",
   "execution_count": 54,
   "id": "86d0c960",
   "metadata": {},
   "outputs": [
    {
     "name": "stdout",
     "output_type": "stream",
     "text": [
      "Epoch 1/200\n",
      "800/800 [==============================] - 1s 1ms/step - loss: 0.4917 - accuracy: 0.7952\n",
      "Epoch 2/200\n",
      "800/800 [==============================] - 1s 1ms/step - loss: 0.4274 - accuracy: 0.7960\n",
      "Epoch 3/200\n",
      "800/800 [==============================] - 1s 988us/step - loss: 0.4207 - accuracy: 0.8121\n",
      "Epoch 4/200\n",
      "800/800 [==============================] - 1s 975us/step - loss: 0.4140 - accuracy: 0.8282\n",
      "Epoch 5/200\n",
      "800/800 [==============================] - 1s 921us/step - loss: 0.4097 - accuracy: 0.8324\n",
      "Epoch 6/200\n",
      "800/800 [==============================] - 1s 1ms/step - loss: 0.4064 - accuracy: 0.8340\n",
      "Epoch 7/200\n",
      "800/800 [==============================] - 1s 1ms/step - loss: 0.4041 - accuracy: 0.8340\n",
      "Epoch 8/200\n",
      "800/800 [==============================] - 1s 914us/step - loss: 0.4024 - accuracy: 0.8315\n",
      "Epoch 9/200\n",
      "800/800 [==============================] - 1s 995us/step - loss: 0.4010 - accuracy: 0.8334\n",
      "Epoch 10/200\n",
      "800/800 [==============================] - 1s 911us/step - loss: 0.4000 - accuracy: 0.8334\n",
      "Epoch 11/200\n",
      "800/800 [==============================] - 1s 840us/step - loss: 0.3997 - accuracy: 0.8339\n",
      "Epoch 12/200\n",
      "800/800 [==============================] - 1s 846us/step - loss: 0.3989 - accuracy: 0.8331\n",
      "Epoch 13/200\n",
      "800/800 [==============================] - 1s 1ms/step - loss: 0.3983 - accuracy: 0.8336\n",
      "Epoch 14/200\n",
      "800/800 [==============================] - 1s 925us/step - loss: 0.3978 - accuracy: 0.8311\n",
      "Epoch 15/200\n",
      "800/800 [==============================] - 1s 927us/step - loss: 0.3978 - accuracy: 0.8336\n",
      "Epoch 16/200\n",
      "800/800 [==============================] - 1s 932us/step - loss: 0.3971 - accuracy: 0.8322\n",
      "Epoch 17/200\n",
      "800/800 [==============================] - 1s 994us/step - loss: 0.3973 - accuracy: 0.8314\n",
      "Epoch 18/200\n",
      "800/800 [==============================] - 1s 896us/step - loss: 0.3970 - accuracy: 0.8319\n",
      "Epoch 19/200\n",
      "800/800 [==============================] - 1s 829us/step - loss: 0.3967 - accuracy: 0.8334\n",
      "Epoch 20/200\n",
      "800/800 [==============================] - 1s 980us/step - loss: 0.3969 - accuracy: 0.8324\n",
      "Epoch 21/200\n",
      "800/800 [==============================] - 1s 940us/step - loss: 0.3966 - accuracy: 0.8329\n",
      "Epoch 22/200\n",
      "800/800 [==============================] - 1s 1ms/step - loss: 0.3962 - accuracy: 0.8340\n",
      "Epoch 23/200\n",
      "800/800 [==============================] - 1s 837us/step - loss: 0.3961 - accuracy: 0.8335\n",
      "Epoch 24/200\n",
      "800/800 [==============================] - 1s 817us/step - loss: 0.3961 - accuracy: 0.8326\n",
      "Epoch 25/200\n",
      "800/800 [==============================] - 1s 802us/step - loss: 0.3957 - accuracy: 0.8349\n",
      "Epoch 26/200\n",
      "800/800 [==============================] - 1s 805us/step - loss: 0.3955 - accuracy: 0.8339\n",
      "Epoch 27/200\n",
      "800/800 [==============================] - 1s 824us/step - loss: 0.3957 - accuracy: 0.8320\n",
      "Epoch 28/200\n",
      "800/800 [==============================] - 1s 859us/step - loss: 0.3953 - accuracy: 0.8339\n",
      "Epoch 29/200\n",
      "800/800 [==============================] - 1s 889us/step - loss: 0.3950 - accuracy: 0.8351\n",
      "Epoch 30/200\n",
      "800/800 [==============================] - 1s 988us/step - loss: 0.3958 - accuracy: 0.8351\n",
      "Epoch 31/200\n",
      "800/800 [==============================] - 1s 1ms/step - loss: 0.3957 - accuracy: 0.8340\n",
      "Epoch 32/200\n",
      "800/800 [==============================] - 1s 1ms/step - loss: 0.3954 - accuracy: 0.8342\n",
      "Epoch 33/200\n",
      "800/800 [==============================] - 1s 884us/step - loss: 0.3957 - accuracy: 0.8326\n",
      "Epoch 34/200\n",
      "800/800 [==============================] - 1s 884us/step - loss: 0.3954 - accuracy: 0.8342\n",
      "Epoch 35/200\n",
      "800/800 [==============================] - 1s 858us/step - loss: 0.3954 - accuracy: 0.8347\n",
      "Epoch 36/200\n",
      "800/800 [==============================] - 1s 867us/step - loss: 0.3954 - accuracy: 0.8339\n",
      "Epoch 37/200\n",
      "800/800 [==============================] - 1s 840us/step - loss: 0.3949 - accuracy: 0.8334\n",
      "Epoch 38/200\n",
      "800/800 [==============================] - 1s 866us/step - loss: 0.3950 - accuracy: 0.8339\n",
      "Epoch 39/200\n",
      "800/800 [==============================] - 1s 1ms/step - loss: 0.3949 - accuracy: 0.8341\n",
      "Epoch 40/200\n",
      "800/800 [==============================] - 1s 1ms/step - loss: 0.3947 - accuracy: 0.8350\n",
      "Epoch 41/200\n",
      "800/800 [==============================] - 1s 1ms/step - loss: 0.3952 - accuracy: 0.8345\n",
      "Epoch 42/200\n",
      "800/800 [==============================] - 1s 914us/step - loss: 0.3952 - accuracy: 0.8332\n",
      "Epoch 43/200\n",
      "800/800 [==============================] - 1s 872us/step - loss: 0.3950 - accuracy: 0.8354\n",
      "Epoch 44/200\n",
      "800/800 [==============================] - 1s 976us/step - loss: 0.3950 - accuracy: 0.8334\n",
      "Epoch 45/200\n",
      "800/800 [==============================] - 1s 1ms/step - loss: 0.3946 - accuracy: 0.8342\n",
      "Epoch 46/200\n",
      "800/800 [==============================] - 1s 991us/step - loss: 0.3947 - accuracy: 0.8347\n",
      "Epoch 47/200\n",
      "800/800 [==============================] - 1s 972us/step - loss: 0.3945 - accuracy: 0.8328\n",
      "Epoch 48/200\n",
      "800/800 [==============================] - 1s 1ms/step - loss: 0.3951 - accuracy: 0.8332\n",
      "Epoch 49/200\n",
      "800/800 [==============================] - 1s 965us/step - loss: 0.3950 - accuracy: 0.8334\n",
      "Epoch 50/200\n",
      "800/800 [==============================] - 1s 889us/step - loss: 0.3946 - accuracy: 0.8347\n",
      "Epoch 51/200\n",
      "800/800 [==============================] - 1s 855us/step - loss: 0.3949 - accuracy: 0.8344\n",
      "Epoch 52/200\n",
      "800/800 [==============================] - 1s 817us/step - loss: 0.3948 - accuracy: 0.8346\n",
      "Epoch 53/200\n",
      "800/800 [==============================] - 1s 794us/step - loss: 0.3949 - accuracy: 0.8346\n",
      "Epoch 54/200\n",
      "800/800 [==============================] - 1s 874us/step - loss: 0.3947 - accuracy: 0.8336\n",
      "Epoch 55/200\n",
      "800/800 [==============================] - 1s 866us/step - loss: 0.3945 - accuracy: 0.8344\n",
      "Epoch 56/200\n",
      "800/800 [==============================] - 1s 828us/step - loss: 0.3954 - accuracy: 0.8342\n",
      "Epoch 57/200\n",
      "800/800 [==============================] - 1s 899us/step - loss: 0.3947 - accuracy: 0.8342\n",
      "Epoch 58/200\n",
      "800/800 [==============================] - 1s 1ms/step - loss: 0.3944 - accuracy: 0.8353\n",
      "Epoch 59/200\n",
      "800/800 [==============================] - 1s 1ms/step - loss: 0.3948 - accuracy: 0.8341\n",
      "Epoch 60/200\n",
      "800/800 [==============================] - 1s 926us/step - loss: 0.3946 - accuracy: 0.8356\n",
      "Epoch 61/200\n",
      "800/800 [==============================] - 1s 856us/step - loss: 0.3948 - accuracy: 0.8342\n",
      "Epoch 62/200\n",
      "800/800 [==============================] - 1s 896us/step - loss: 0.3949 - accuracy: 0.8345\n",
      "Epoch 63/200\n",
      "800/800 [==============================] - 1s 886us/step - loss: 0.3940 - accuracy: 0.8344\n",
      "Epoch 64/200\n",
      "800/800 [==============================] - 1s 739us/step - loss: 0.3949 - accuracy: 0.8350\n",
      "Epoch 65/200\n",
      "800/800 [==============================] - 1s 763us/step - loss: 0.3945 - accuracy: 0.8344\n",
      "Epoch 66/200\n",
      "800/800 [==============================] - 1s 760us/step - loss: 0.3944 - accuracy: 0.8338\n",
      "Epoch 67/200\n",
      "800/800 [==============================] - 1s 759us/step - loss: 0.3945 - accuracy: 0.8344\n",
      "Epoch 68/200\n",
      "800/800 [==============================] - 1s 676us/step - loss: 0.3942 - accuracy: 0.8356\n",
      "Epoch 69/200\n",
      "800/800 [==============================] - 1s 679us/step - loss: 0.3952 - accuracy: 0.8336\n",
      "Epoch 70/200\n",
      "800/800 [==============================] - 1s 836us/step - loss: 0.3944 - accuracy: 0.8344\n",
      "Epoch 71/200\n",
      "800/800 [==============================] - 1s 786us/step - loss: 0.3946 - accuracy: 0.8345\n",
      "Epoch 72/200\n",
      "800/800 [==============================] - 1s 765us/step - loss: 0.3943 - accuracy: 0.8341\n",
      "Epoch 73/200\n",
      "800/800 [==============================] - 1s 781us/step - loss: 0.3943 - accuracy: 0.8330\n",
      "Epoch 74/200\n",
      "800/800 [==============================] - 1s 935us/step - loss: 0.3945 - accuracy: 0.8357\n",
      "Epoch 75/200\n",
      "800/800 [==============================] - 1s 1ms/step - loss: 0.3944 - accuracy: 0.8349\n",
      "Epoch 76/200\n",
      "800/800 [==============================] - 1s 1ms/step - loss: 0.3942 - accuracy: 0.8341\n",
      "Epoch 77/200\n",
      "800/800 [==============================] - 1s 754us/step - loss: 0.3941 - accuracy: 0.8357\n",
      "Epoch 78/200\n",
      "800/800 [==============================] - 1s 772us/step - loss: 0.3949 - accuracy: 0.8351\n",
      "Epoch 79/200\n",
      "800/800 [==============================] - 1s 874us/step - loss: 0.3942 - accuracy: 0.8345\n",
      "Epoch 80/200\n"
     ]
    },
    {
     "name": "stdout",
     "output_type": "stream",
     "text": [
      "800/800 [==============================] - 1s 787us/step - loss: 0.3938 - accuracy: 0.8346\n",
      "Epoch 81/200\n",
      "800/800 [==============================] - 1s 927us/step - loss: 0.3945 - accuracy: 0.8350\n",
      "Epoch 82/200\n",
      "800/800 [==============================] - 1s 798us/step - loss: 0.3944 - accuracy: 0.8317\n",
      "Epoch 83/200\n",
      "800/800 [==============================] - 1s 816us/step - loss: 0.3940 - accuracy: 0.8340\n",
      "Epoch 84/200\n",
      "800/800 [==============================] - 1s 736us/step - loss: 0.3942 - accuracy: 0.8361\n",
      "Epoch 85/200\n",
      "800/800 [==============================] - 1s 783us/step - loss: 0.3943 - accuracy: 0.8351\n",
      "Epoch 86/200\n",
      "800/800 [==============================] - 1s 746us/step - loss: 0.3943 - accuracy: 0.8322\n",
      "Epoch 87/200\n",
      "800/800 [==============================] - 1s 752us/step - loss: 0.3946 - accuracy: 0.8329\n",
      "Epoch 88/200\n",
      "800/800 [==============================] - 1s 2ms/step - loss: 0.3944 - accuracy: 0.8338\n",
      "Epoch 89/200\n",
      "800/800 [==============================] - 1s 1ms/step - loss: 0.3941 - accuracy: 0.8342\n",
      "Epoch 90/200\n",
      "800/800 [==============================] - 1s 2ms/step - loss: 0.3944 - accuracy: 0.8346\n",
      "Epoch 91/200\n",
      "800/800 [==============================] - 1s 862us/step - loss: 0.3944 - accuracy: 0.8351\n",
      "Epoch 92/200\n",
      "800/800 [==============================] - 1s 1ms/step - loss: 0.3943 - accuracy: 0.8346\n",
      "Epoch 93/200\n",
      "800/800 [==============================] - 1s 2ms/step - loss: 0.3943 - accuracy: 0.8340\n",
      "Epoch 94/200\n",
      "800/800 [==============================] - 1s 830us/step - loss: 0.3943 - accuracy: 0.8329\n",
      "Epoch 95/200\n",
      "800/800 [==============================] - 1s 745us/step - loss: 0.3940 - accuracy: 0.8350\n",
      "Epoch 96/200\n",
      "800/800 [==============================] - 1s 1ms/step - loss: 0.3941 - accuracy: 0.8336\n",
      "Epoch 97/200\n",
      "800/800 [==============================] - 1s 1ms/step - loss: 0.3944 - accuracy: 0.8344\n",
      "Epoch 98/200\n",
      "800/800 [==============================] - 1s 1ms/step - loss: 0.3940 - accuracy: 0.8341\n",
      "Epoch 99/200\n",
      "800/800 [==============================] - 1s 1ms/step - loss: 0.3943 - accuracy: 0.8340\n",
      "Epoch 100/200\n",
      "800/800 [==============================] - 1s 737us/step - loss: 0.3942 - accuracy: 0.8338\n",
      "Epoch 101/200\n",
      "800/800 [==============================] - 1s 739us/step - loss: 0.3943 - accuracy: 0.8341\n",
      "Epoch 102/200\n",
      "800/800 [==============================] - 1s 2ms/step - loss: 0.3945 - accuracy: 0.8341\n",
      "Epoch 103/200\n",
      "800/800 [==============================] - 1s 946us/step - loss: 0.3941 - accuracy: 0.8351\n",
      "Epoch 104/200\n",
      "800/800 [==============================] - 1s 754us/step - loss: 0.3944 - accuracy: 0.8334\n",
      "Epoch 105/200\n",
      "800/800 [==============================] - 1s 1ms/step - loss: 0.3939 - accuracy: 0.8341\n",
      "Epoch 106/200\n",
      "800/800 [==============================] - 1s 2ms/step - loss: 0.3939 - accuracy: 0.8345\n",
      "Epoch 107/200\n",
      "800/800 [==============================] - 1s 1ms/step - loss: 0.3943 - accuracy: 0.8340\n",
      "Epoch 108/200\n",
      "800/800 [==============================] - 1s 2ms/step - loss: 0.3941 - accuracy: 0.8345\n",
      "Epoch 109/200\n",
      "800/800 [==============================] - 1s 794us/step - loss: 0.3940 - accuracy: 0.8325\n",
      "Epoch 110/200\n",
      "800/800 [==============================] - 1s 724us/step - loss: 0.3940 - accuracy: 0.8350\n",
      "Epoch 111/200\n",
      "800/800 [==============================] - 1s 854us/step - loss: 0.3937 - accuracy: 0.8322\n",
      "Epoch 112/200\n",
      "800/800 [==============================] - 1s 799us/step - loss: 0.3946 - accuracy: 0.8346\n",
      "Epoch 113/200\n",
      "800/800 [==============================] - 1s 1ms/step - loss: 0.3940 - accuracy: 0.8331\n",
      "Epoch 114/200\n",
      "800/800 [==============================] - 1s 1ms/step - loss: 0.3940 - accuracy: 0.8336\n",
      "Epoch 115/200\n",
      "800/800 [==============================] - 1s 1ms/step - loss: 0.3934 - accuracy: 0.8364\n",
      "Epoch 116/200\n",
      "800/800 [==============================] - 1s 1ms/step - loss: 0.3943 - accuracy: 0.8345\n",
      "Epoch 117/200\n",
      "800/800 [==============================] - 1s 1ms/step - loss: 0.3941 - accuracy: 0.8329\n",
      "Epoch 118/200\n",
      "800/800 [==============================] - 1s 841us/step - loss: 0.3942 - accuracy: 0.8328\n",
      "Epoch 119/200\n",
      "800/800 [==============================] - 1s 1ms/step - loss: 0.3939 - accuracy: 0.8354\n",
      "Epoch 120/200\n",
      "800/800 [==============================] - 1s 1ms/step - loss: 0.3937 - accuracy: 0.8359\n",
      "Epoch 121/200\n",
      "800/800 [==============================] - 1s 1ms/step - loss: 0.3942 - accuracy: 0.8341\n",
      "Epoch 122/200\n",
      "800/800 [==============================] - 1s 1ms/step - loss: 0.3943 - accuracy: 0.8329\n",
      "Epoch 123/200\n",
      "800/800 [==============================] - 1s 948us/step - loss: 0.3939 - accuracy: 0.8334\n",
      "Epoch 124/200\n",
      "800/800 [==============================] - 1s 780us/step - loss: 0.3941 - accuracy: 0.8363\n",
      "Epoch 125/200\n",
      "800/800 [==============================] - 1s 749us/step - loss: 0.3943 - accuracy: 0.8338\n",
      "Epoch 126/200\n",
      "800/800 [==============================] - 1s 736us/step - loss: 0.3941 - accuracy: 0.8334\n",
      "Epoch 127/200\n",
      "800/800 [==============================] - 1s 746us/step - loss: 0.3941 - accuracy: 0.8341\n",
      "Epoch 128/200\n",
      "800/800 [==============================] - 1s 722us/step - loss: 0.3942 - accuracy: 0.8353\n",
      "Epoch 129/200\n",
      "800/800 [==============================] - 1s 707us/step - loss: 0.3939 - accuracy: 0.8339\n",
      "Epoch 130/200\n",
      "800/800 [==============================] - 1s 740us/step - loss: 0.3944 - accuracy: 0.8341\n",
      "Epoch 131/200\n",
      "800/800 [==============================] - 1s 1ms/step - loss: 0.3941 - accuracy: 0.8350\n",
      "Epoch 132/200\n",
      "800/800 [==============================] - 1s 1ms/step - loss: 0.3941 - accuracy: 0.8342\n",
      "Epoch 133/200\n",
      "800/800 [==============================] - 1s 2ms/step - loss: 0.3942 - accuracy: 0.8344\n",
      "Epoch 134/200\n",
      "800/800 [==============================] - 1s 832us/step - loss: 0.3936 - accuracy: 0.8351\n",
      "Epoch 135/200\n",
      "800/800 [==============================] - 1s 763us/step - loss: 0.3942 - accuracy: 0.8340\n",
      "Epoch 136/200\n",
      "800/800 [==============================] - 1s 2ms/step - loss: 0.3940 - accuracy: 0.8345\n",
      "Epoch 137/200\n",
      "800/800 [==============================] - 1s 2ms/step - loss: 0.3937 - accuracy: 0.8328\n",
      "Epoch 138/200\n",
      "800/800 [==============================] - 1s 801us/step - loss: 0.3937 - accuracy: 0.8353\n",
      "Epoch 139/200\n",
      "800/800 [==============================] - 1s 792us/step - loss: 0.3940 - accuracy: 0.8338\n",
      "Epoch 140/200\n",
      "800/800 [==============================] - 1s 718us/step - loss: 0.3940 - accuracy: 0.8354\n",
      "Epoch 141/200\n",
      "800/800 [==============================] - 1s 867us/step - loss: 0.3943 - accuracy: 0.8341\n",
      "Epoch 142/200\n",
      "800/800 [==============================] - 1s 770us/step - loss: 0.3940 - accuracy: 0.8345\n",
      "Epoch 143/200\n",
      "800/800 [==============================] - 1s 951us/step - loss: 0.3944 - accuracy: 0.8341\n",
      "Epoch 144/200\n",
      "800/800 [==============================] - 1s 926us/step - loss: 0.3937 - accuracy: 0.8339\n",
      "Epoch 145/200\n",
      "800/800 [==============================] - 1s 934us/step - loss: 0.3938 - accuracy: 0.8349\n",
      "Epoch 146/200\n",
      "800/800 [==============================] - 1s 1ms/step - loss: 0.3941 - accuracy: 0.8344\n",
      "Epoch 147/200\n",
      "800/800 [==============================] - 1s 2ms/step - loss: 0.3939 - accuracy: 0.8339\n",
      "Epoch 148/200\n",
      "800/800 [==============================] - 1s 1ms/step - loss: 0.3941 - accuracy: 0.8344\n",
      "Epoch 149/200\n",
      "800/800 [==============================] - 1s 1ms/step - loss: 0.3938 - accuracy: 0.8338\n",
      "Epoch 150/200\n",
      "800/800 [==============================] - 1s 1ms/step - loss: 0.3942 - accuracy: 0.8346\n",
      "Epoch 151/200\n",
      "800/800 [==============================] - 1s 2ms/step - loss: 0.3941 - accuracy: 0.8336\n",
      "Epoch 152/200\n",
      "800/800 [==============================] - 1s 2ms/step - loss: 0.3941 - accuracy: 0.8339\n",
      "Epoch 153/200\n",
      "800/800 [==============================] - 1s 1ms/step - loss: 0.3940 - accuracy: 0.8347\n",
      "Epoch 154/200\n",
      "800/800 [==============================] - 1s 2ms/step - loss: 0.3943 - accuracy: 0.8353\n",
      "Epoch 155/200\n",
      "800/800 [==============================] - 1s 750us/step - loss: 0.3937 - accuracy: 0.8341\n",
      "Epoch 156/200\n",
      "800/800 [==============================] - 1s 904us/step - loss: 0.3937 - accuracy: 0.8320\n",
      "Epoch 157/200\n",
      "800/800 [==============================] - 1s 1ms/step - loss: 0.3939 - accuracy: 0.8334\n",
      "Epoch 158/200\n",
      "800/800 [==============================] - 1s 856us/step - loss: 0.3936 - accuracy: 0.8344\n",
      "Epoch 159/200\n"
     ]
    },
    {
     "name": "stdout",
     "output_type": "stream",
     "text": [
      "800/800 [==============================] - 1s 787us/step - loss: 0.3941 - accuracy: 0.8349\n",
      "Epoch 160/200\n",
      "800/800 [==============================] - 1s 766us/step - loss: 0.3941 - accuracy: 0.8328\n",
      "Epoch 161/200\n",
      "800/800 [==============================] - 1s 724us/step - loss: 0.3940 - accuracy: 0.8346\n",
      "Epoch 162/200\n",
      "800/800 [==============================] - 1s 802us/step - loss: 0.3941 - accuracy: 0.8336\n",
      "Epoch 163/200\n",
      "800/800 [==============================] - 1s 701us/step - loss: 0.3940 - accuracy: 0.8342\n",
      "Epoch 164/200\n",
      "800/800 [==============================] - 1s 709us/step - loss: 0.3940 - accuracy: 0.8354\n",
      "Epoch 165/200\n",
      "800/800 [==============================] - 1s 767us/step - loss: 0.3937 - accuracy: 0.8329\n",
      "Epoch 166/200\n",
      "800/800 [==============================] - 1s 894us/step - loss: 0.3928 - accuracy: 0.8345\n",
      "Epoch 167/200\n",
      "800/800 [==============================] - 1s 740us/step - loss: 0.3939 - accuracy: 0.8339\n",
      "Epoch 168/200\n",
      "800/800 [==============================] - 1s 701us/step - loss: 0.3941 - accuracy: 0.8353\n",
      "Epoch 169/200\n",
      "800/800 [==============================] - 1s 721us/step - loss: 0.3936 - accuracy: 0.8341\n",
      "Epoch 170/200\n",
      "800/800 [==============================] - 1s 776us/step - loss: 0.3935 - accuracy: 0.8354\n",
      "Epoch 171/200\n",
      "800/800 [==============================] - 1s 981us/step - loss: 0.3938 - accuracy: 0.8345\n",
      "Epoch 172/200\n",
      "800/800 [==============================] - 1s 1ms/step - loss: 0.3937 - accuracy: 0.8338\n",
      "Epoch 173/200\n",
      "800/800 [==============================] - 1s 1ms/step - loss: 0.3939 - accuracy: 0.8342\n",
      "Epoch 174/200\n",
      "800/800 [==============================] - 1s 1ms/step - loss: 0.3931 - accuracy: 0.8332\n",
      "Epoch 175/200\n",
      "800/800 [==============================] - 1s 2ms/step - loss: 0.3933 - accuracy: 0.8342\n",
      "Epoch 176/200\n",
      "800/800 [==============================] - 1s 769us/step - loss: 0.3940 - accuracy: 0.8334\n",
      "Epoch 177/200\n",
      "800/800 [==============================] - 1s 937us/step - loss: 0.3938 - accuracy: 0.8334\n",
      "Epoch 178/200\n",
      "800/800 [==============================] - 1s 913us/step - loss: 0.3941 - accuracy: 0.8341\n",
      "Epoch 179/200\n",
      "800/800 [==============================] - 1s 872us/step - loss: 0.3934 - accuracy: 0.8345\n",
      "Epoch 180/200\n",
      "800/800 [==============================] - 1s 842us/step - loss: 0.3939 - accuracy: 0.8345\n",
      "Epoch 181/200\n",
      "800/800 [==============================] - 1s 873us/step - loss: 0.3940 - accuracy: 0.8346\n",
      "Epoch 182/200\n",
      "800/800 [==============================] - 1s 722us/step - loss: 0.3937 - accuracy: 0.8351\n",
      "Epoch 183/200\n",
      "800/800 [==============================] - 1s 708us/step - loss: 0.3933 - accuracy: 0.8355\n",
      "Epoch 184/200\n",
      "800/800 [==============================] - 1s 708us/step - loss: 0.3937 - accuracy: 0.8363\n",
      "Epoch 185/200\n",
      "800/800 [==============================] - 1s 728us/step - loss: 0.3935 - accuracy: 0.8341\n",
      "Epoch 186/200\n",
      "800/800 [==============================] - 1s 723us/step - loss: 0.3943 - accuracy: 0.8340\n",
      "Epoch 187/200\n",
      "800/800 [==============================] - 1s 745us/step - loss: 0.3940 - accuracy: 0.8335\n",
      "Epoch 188/200\n",
      "800/800 [==============================] - 1s 746us/step - loss: 0.3940 - accuracy: 0.8353\n",
      "Epoch 189/200\n",
      "800/800 [==============================] - 1s 758us/step - loss: 0.3936 - accuracy: 0.8339\n",
      "Epoch 190/200\n",
      "800/800 [==============================] - 1s 778us/step - loss: 0.3937 - accuracy: 0.8341\n",
      "Epoch 191/200\n",
      "800/800 [==============================] - 1s 700us/step - loss: 0.3939 - accuracy: 0.8341\n",
      "Epoch 192/200\n",
      "800/800 [==============================] - 1s 782us/step - loss: 0.3940 - accuracy: 0.8346\n",
      "Epoch 193/200\n",
      "800/800 [==============================] - 1s 716us/step - loss: 0.3939 - accuracy: 0.8334\n",
      "Epoch 194/200\n",
      "800/800 [==============================] - 1s 790us/step - loss: 0.3933 - accuracy: 0.8345\n",
      "Epoch 195/200\n",
      "800/800 [==============================] - 1s 747us/step - loss: 0.3942 - accuracy: 0.8344\n",
      "Epoch 196/200\n",
      "800/800 [==============================] - 1s 838us/step - loss: 0.3936 - accuracy: 0.8338\n",
      "Epoch 197/200\n",
      "800/800 [==============================] - 1s 766us/step - loss: 0.3938 - accuracy: 0.8357\n",
      "Epoch 198/200\n",
      "800/800 [==============================] - 1s 720us/step - loss: 0.3934 - accuracy: 0.8346\n",
      "Epoch 199/200\n",
      "800/800 [==============================] - 1s 760us/step - loss: 0.3939 - accuracy: 0.8328\n",
      "Epoch 200/200\n",
      "800/800 [==============================] - 1s 787us/step - loss: 0.3939 - accuracy: 0.8341\n"
     ]
    },
    {
     "data": {
      "text/plain": [
       "<keras.callbacks.History at 0x1e719a18d00>"
      ]
     },
     "execution_count": 54,
     "metadata": {},
     "output_type": "execute_result"
    }
   ],
   "source": [
    "# Fitting the ANN to the Training set\n",
    "classifier.fit(x=X_train, y=y_train, batch_size = 10,epochs=200)"
   ]
  },
  {
   "cell_type": "code",
   "execution_count": 55,
   "id": "7ae90d39",
   "metadata": {},
   "outputs": [
    {
     "name": "stdout",
     "output_type": "stream",
     "text": [
      "The predicted values on test set are as follows:- \n",
      "\n",
      "[[0.23583397]\n",
      " [0.26378486]\n",
      " [0.23254812]\n",
      " ...\n",
      " [0.16398144]\n",
      " [0.10208747]\n",
      " [0.13627538]]\n"
     ]
    },
    {
     "data": {
      "text/plain": [
       "array([[0.23583397],\n",
       "       [0.26378486],\n",
       "       [0.23254812],\n",
       "       [0.063274  ],\n",
       "       [0.18977803]], dtype=float32)"
      ]
     },
     "execution_count": 55,
     "metadata": {},
     "output_type": "execute_result"
    }
   ],
   "source": [
    "# Part 3 - Making the predictions and evaluating the model\n",
    "\n",
    "# Predicting the Test set results\n",
    "yp = classifier.predict(X_test)\n",
    "print(\"The predicted values on test set are as follows:- \\n\")\n",
    "print(yp)\n",
    "yp[:5]"
   ]
  },
  {
   "cell_type": "code",
   "execution_count": 56,
   "id": "39746696",
   "metadata": {},
   "outputs": [],
   "source": [
    "y_pred = []\n",
    "for element in yp:\n",
    "    if element > 0.5:\n",
    "        y_pred.append(1)\n",
    "    else:\n",
    "        y_pred.append(0)"
   ]
  },
  {
   "cell_type": "code",
   "execution_count": 57,
   "id": "35ee92fd",
   "metadata": {},
   "outputs": [
    {
     "data": {
      "text/plain": [
       "[0, 0, 0, 0, 0, 1, 0, 0, 0, 1]"
      ]
     },
     "execution_count": 57,
     "metadata": {},
     "output_type": "execute_result"
    }
   ],
   "source": [
    "y_pred[:10]"
   ]
  },
  {
   "cell_type": "code",
   "execution_count": 58,
   "id": "939e1b8c",
   "metadata": {},
   "outputs": [
    {
     "data": {
      "text/plain": [
       "9394    0\n",
       "898     1\n",
       "2398    0\n",
       "5906    0\n",
       "2343    0\n",
       "8225    1\n",
       "5506    0\n",
       "6451    0\n",
       "2670    1\n",
       "3497    1\n",
       "Name: Exited, dtype: int64"
      ]
     },
     "execution_count": 58,
     "metadata": {},
     "output_type": "execute_result"
    }
   ],
   "source": [
    "y_test[:10]"
   ]
  },
  {
   "cell_type": "markdown",
   "id": "b1616600",
   "metadata": {},
   "source": [
    "Our model is working perfectly"
   ]
  },
  {
   "cell_type": "code",
   "execution_count": 59,
   "id": "3b77ef90",
   "metadata": {},
   "outputs": [
    {
     "name": "stdout",
     "output_type": "stream",
     "text": [
      "The confusion matrix to test the performance of the network on test set are as follows:- \n",
      "\n",
      "[[1522   73]\n",
      " [ 242  163]]\n",
      "0.8425\n"
     ]
    }
   ],
   "source": [
    "# Making the Confusion Matrix\n",
    "from sklearn.metrics import confusion_matrix,accuracy_score\n",
    "cm = confusion_matrix(y_test, y_pred)\n",
    "accuracy=accuracy_score(y_test,y_pred)\n",
    "print(\"The confusion matrix to test the performance of the network on test set are as follows:- \\n\")\n",
    "print(cm)\n",
    "print(accuracy)"
   ]
  },
  {
   "cell_type": "markdown",
   "id": "c0b6cba0",
   "metadata": {},
   "source": [
    "### Testing"
   ]
  },
  {
   "cell_type": "code",
   "execution_count": 60,
   "id": "84e9de36",
   "metadata": {},
   "outputs": [
    {
     "data": {
      "text/plain": [
       "array([[0., 0., 0., 0., 0., 0., 0., 0.]])"
      ]
     },
     "execution_count": 60,
     "metadata": {},
     "output_type": "execute_result"
    }
   ],
   "source": [
    "customer = [60000 ,22000 , 34 , 0 , 1, 1, 650, 1]\n",
    "customer = np.array([customer])\n",
    "sc.fit_transform(customer)"
   ]
  },
  {
   "cell_type": "code",
   "execution_count": 61,
   "id": "ae5ff376",
   "metadata": {},
   "outputs": [
    {
     "name": "stdout",
     "output_type": "stream",
     "text": [
      "Faithful customer\n"
     ]
    }
   ],
   "source": [
    "pred = classifier.predict(customer)\n",
    " \n",
    "if pred[0] == 1:\n",
    "  print('customer will leave')\n",
    "else:\n",
    "  print('Faithful customer')"
   ]
  },
  {
   "cell_type": "code",
   "execution_count": 62,
   "id": "0c77b0b4",
   "metadata": {},
   "outputs": [
    {
     "data": {
      "text/plain": [
       "array([[0.]], dtype=float32)"
      ]
     },
     "execution_count": 62,
     "metadata": {},
     "output_type": "execute_result"
    }
   ],
   "source": [
    "pred"
   ]
  },
  {
   "cell_type": "markdown",
   "id": "62b8318e",
   "metadata": {},
   "source": [
    "### Saving the best model"
   ]
  },
  {
   "cell_type": "code",
   "execution_count": 63,
   "id": "6079de6d",
   "metadata": {},
   "outputs": [],
   "source": [
    "Keras_file = \"churn_analysis_predictor.h5\""
   ]
  },
  {
   "cell_type": "code",
   "execution_count": 64,
   "id": "bd8c2b8a",
   "metadata": {},
   "outputs": [],
   "source": [
    "tf.keras.models.save_model(classifier, Keras_file)"
   ]
  },
  {
   "cell_type": "code",
   "execution_count": 65,
   "id": "0cd8d1e3",
   "metadata": {},
   "outputs": [
    {
     "name": "stdout",
     "output_type": "stream",
     "text": [
      "INFO:tensorflow:Assets written to: C:\\Users\\nehak\\AppData\\Local\\Temp\\tmp5rf1u_1q\\assets\n"
     ]
    },
    {
     "name": "stderr",
     "output_type": "stream",
     "text": [
      "WARNING:absl:Buffer deduplication procedure will be skipped when flatbuffer library is not properly loaded\n"
     ]
    },
    {
     "data": {
      "text/plain": [
       "2216"
      ]
     },
     "execution_count": 65,
     "metadata": {},
     "output_type": "execute_result"
    }
   ],
   "source": [
    "classifier = tf.keras.models.load_model('churn_analysis_predictor.h5')\n",
    "converter = tf.lite.TFLiteConverter.from_keras_model(classifier)\n",
    "tflite_model = converter.convert()\n",
    "open(\"converted_model.tflite\", \"wb\").write(tflite_model)"
   ]
  }
 ],
 "metadata": {
  "kernelspec": {
   "display_name": "Python 3 (ipykernel)",
   "language": "python",
   "name": "python3"
  },
  "language_info": {
   "codemirror_mode": {
    "name": "ipython",
    "version": 3
   },
   "file_extension": ".py",
   "mimetype": "text/x-python",
   "name": "python",
   "nbconvert_exporter": "python",
   "pygments_lexer": "ipython3",
   "version": "3.9.12"
  }
 },
 "nbformat": 4,
 "nbformat_minor": 5
}
